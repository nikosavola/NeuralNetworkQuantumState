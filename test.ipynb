{
 "cells": [
  {
   "cell_type": "code",
   "execution_count": 14,
   "metadata": {},
   "outputs": [],
   "source": [
    "import netket as nk\n",
    "from netket.operator.spin import sigmax, sigmay, sigmaz\n",
    "import numpy as np\n",
    "import json\n",
    "from math import pi\n"
   ]
  },
  {
   "cell_type": "code",
   "execution_count": 23,
   "metadata": {},
   "outputs": [
    {
     "name": "stdout",
     "output_type": "stream",
     "text": [
      "[[1], [0, 2], [1, 3], [2, 4], [3, 5], [4, 6], [5, 7], [6, 8], [7, 9], [8]]\n"
     ]
    }
   ],
   "source": [
    "\n",
    "L = 10\n",
    "g = nk.graph.Chain(length=L, pbc=False)\n",
    "N = g.n_nodes\n",
    "hi = nk.hilbert.Spin(s=1, N=N)\n",
    "\n",
    "H = 0\n",
    "#print(g.edges())\n",
    "print(g.adjacency_list())\n",
    "\n",
    "\n",
    "#print(sigmax(hi,0).to_dense())\n",
    "#print(sigmay(hi,0).to_dense())\n",
    "#print(sigmaz(hi,0).to_dense())\n",
    "\n",
    "for i, j in g.edges():\n",
    "    #operators, weights = ['XX','YY','ZZ'], [1,1,1]\n",
    "    #dotpr = nk.operator.PauliStrings(operators, weights)\n",
    "    dotpr = sigmaz(hi, i)*sigmaz(hi, j) + sigmax(hi, i)*sigmax(hi, j) + sigmay(hi, i)*sigmay(hi, j)\n",
    "    H += 1/2 * dotpr + 1/6 * dotpr*dotpr + 1/3"
   ]
  },
  {
   "cell_type": "code",
   "execution_count": 11,
   "metadata": {},
   "outputs": [
    {
     "data": {
      "text/plain": [
       "array([[4098.+0.j,    0.+0.j,    0.+0.j,    0.+0.j],\n",
       "       [   0.+0.j, 4098.+0.j,    0.+0.j,    0.+0.j],\n",
       "       [   0.+0.j,    0.+0.j, 4098.+0.j,    0.+0.j],\n",
       "       [   0.+0.j,    0.+0.j,    0.+0.j, 4098.+0.j]])"
      ]
     },
     "execution_count": 11,
     "metadata": {},
     "output_type": "execute_result"
    }
   ],
   "source": [
    "sx = np.array([[0, 1],[1, 0]], complex)\n",
    "sy = np.array([[0, -j],[j, 0]], complex)\n",
    "sz = np.array([[1, 0],[0, -1]], complex)\n",
    "\n",
    "SX = np.kron(sx, sx)\n",
    "SY = np.kron(sy, sy)\n",
    "SZ = np.kron(sz, sz)\n",
    "\n",
    "np.matmul(SX,SX) + np.matmul(SY,SY) + np.matmul(SZ,SZ)"
   ]
  },
  {
   "cell_type": "code",
   "execution_count": 39,
   "metadata": {},
   "outputs": [
    {
     "name": "stdout",
     "output_type": "stream",
     "text": [
      "[[0, 1, 1], [2, 3, 1], [4, 5, 1], [6, 7, 1], [8, 9, 1], [10, 11, 1], [12, 13, 1]]\n",
      "[[ 1  0  0  0]\n",
      " [ 0 -1  0  0]\n",
      " [ 0  0 -1  0]\n",
      " [ 0  0  0  1]]\n",
      "[[1, 0, 0, 0], [0, -1, 0, 0], [0, 0, -1, 0], [0, 0, 0, 1]]\n",
      "(4, 4, 4)\n",
      "[[[1, 0, 0, 0], [0, -1, 0, 0], [0, 0, -1, 0], [0, 0, 0, 1]], [[0.2, 0.0, 0.0, 0.0], [0.0, -0.2, 0.0, 0.0], [0.0, 0.0, -0.2, 0.0], [0.0, 0.0, 0.0, 0.2]], [[0, 0, 0, 0], [0, 0, -2, 0], [0, -2, 0, 0], [0, 0, 0, 0]], [[0.0, 0.0, 0.0, 0.0], [0.0, 0.0, 0.4, 0.0], [0.0, 0.4, 0.0, 0.0], [0.0, 0.0, 0.0, 0.0]]]\n"
     ]
    }
   ],
   "source": [
    "#Couplings J1 and J2\n",
    "J = [1, 0.2]\n",
    "L = 14\n",
    "\n",
    "# Define custom graph\n",
    "edge_colors = []\n",
    "for i in range(0, L, 2):\n",
    "    edge_colors.append([i, (i+1)%L, 1])\n",
    "    #edge_colors.append([i, (i+2)%L, 2])\n",
    "print(edge_colors)\n",
    "\n",
    "# Define the netket graph object\n",
    "g = nk.graph.Graph(edges=edge_colors)\n",
    "\n",
    "#Sigma^z*Sigma^z interactions\n",
    "sigmaz = [[1, 0], [0, -1]]\n",
    "mszsz = (np.kron(sigmaz, sigmaz))\n",
    "\n",
    "#Exchange interactions\n",
    "exchange = np.asarray([[0, 0, 0, 0], [0, 0, 2, 0], [0, 2, 0, 0], [0, 0, 0, 0]])\n",
    "\n",
    "print((J[0] * mszsz))\n",
    "print((J[0] * mszsz).tolist())\n",
    "\n",
    "bond_operator = [\n",
    "    (J[0] * mszsz).tolist(),\n",
    "    (J[1] * mszsz).tolist(),\n",
    "    (-J[0] * exchange).tolist(),  \n",
    "    (J[1] * exchange).tolist(),\n",
    "]\n",
    "\n",
    "bond_color = [1, 2, 1, 2]\n",
    "\n",
    "print(np.shape(bond_operator))\n",
    "print(bond_operator)"
   ]
  },
  {
   "cell_type": "code",
   "execution_count": 36,
   "metadata": {},
   "outputs": [
    {
     "name": "stdout",
     "output_type": "stream",
     "text": [
      "[[0.        +0.j 0.        +0.j 1.41421356+0.j 0.        +0.j]\n",
      " [0.        +0.j 0.        +0.j 0.        +0.j 1.41421356+0.j]\n",
      " [0.        +0.j 0.        +0.j 0.        +0.j 0.        +0.j]\n",
      " [0.        +0.j 0.        +0.j 0.        +0.j 0.        +0.j]]\n",
      "[[0.        +0.j 0.        +0.j 0.        +0.j 0.        +0.j]\n",
      " [0.        +0.j 0.        +0.j 0.        +0.j 0.        +0.j]\n",
      " [1.41421356+0.j 0.        +0.j 0.        +0.j 0.        +0.j]\n",
      " [0.        +0.j 1.41421356+0.j 0.        +0.j 0.        +0.j]]\n",
      "[[2. 0. 0. 0.]\n",
      " [0. 2. 0. 0.]\n",
      " [0. 0. 0. 0.]\n",
      " [0. 0. 0. 0.]]\n"
     ]
    }
   ],
   "source": [
    "Splus = np.sqrt(2)*np.array([[0, 0, 1, 0],[0, 0, 0, 1],[0, 0, 0, 0],[0, 0, 0, 0]], complex)\n",
    "Sminus = np.sqrt(2)*np.array([[0, 0, 1, 0],[0, 0, 0, 1],[0, 0, 0, 0],[0, 0, 0, 0]], complex).T\n",
    "\n",
    "print(Splus)\n",
    "print(Sminus)\n",
    "print(np.real(np.matmul(Splus, Sminus)))\n"
   ]
  },
  {
   "cell_type": "code",
   "execution_count": 41,
   "metadata": {},
   "outputs": [
    {
     "name": "stdout",
     "output_type": "stream",
     "text": [
      "[[0 0 0 1]\n",
      " [0 0 1 0]\n",
      " [0 1 0 0]\n",
      " [1 0 0 0]]\n"
     ]
    },
    {
     "ename": "ValueError",
     "evalue": "The matrix of the sub-operator acting on sites (0, 1) must have shape (9, 9), but it has shape (4, 4).",
     "output_type": "error",
     "traceback": [
      "\u001b[0;31m---------------------------------------------------------------------------\u001b[0m",
      "\u001b[0;31mValueError\u001b[0m                                Traceback (most recent call last)",
      "\u001b[1;32m/u/22/forbomc1/unix/Desktop/projects/NeuralNetworkQuantumState/test.ipynb Cell 6'\u001b[0m in \u001b[0;36m<cell line: 31>\u001b[0;34m()\u001b[0m\n\u001b[1;32m     <a href='vscode-notebook-cell://ssh-remote%2Bbrute.aalto.fi/u/22/forbomc1/unix/Desktop/projects/NeuralNetworkQuantumState/test.ipynb#ch0000005vscode-remote?line=28'>29</a>\u001b[0m bondops \u001b[39m=\u001b[39m [H0\u001b[39m+\u001b[39mH1\u001b[39m+\u001b[39mH2]\n\u001b[1;32m     <a href='vscode-notebook-cell://ssh-remote%2Bbrute.aalto.fi/u/22/forbomc1/unix/Desktop/projects/NeuralNetworkQuantumState/test.ipynb#ch0000005vscode-remote?line=29'>30</a>\u001b[0m bondcols \u001b[39m=\u001b[39m [\u001b[39m1\u001b[39m]\n\u001b[0;32m---> <a href='vscode-notebook-cell://ssh-remote%2Bbrute.aalto.fi/u/22/forbomc1/unix/Desktop/projects/NeuralNetworkQuantumState/test.ipynb#ch0000005vscode-remote?line=30'>31</a>\u001b[0m nk\u001b[39m.\u001b[39;49moperator\u001b[39m.\u001b[39;49mGraphOperator(hilbert\u001b[39m=\u001b[39;49mhi, graph\u001b[39m=\u001b[39;49mg, site_ops\u001b[39m=\u001b[39;49msiteops, bond_ops\u001b[39m=\u001b[39;49mbondops, bond_ops_colors\u001b[39m=\u001b[39;49mbondcols)\n",
      "File \u001b[0;32m~/.local/lib/python3.8/site-packages/netket/operator/_graph_operator.py:150\u001b[0m, in \u001b[0;36mGraphOperator.__init__\u001b[0;34m(self, hilbert, graph, site_ops, bond_ops, bond_ops_colors, dtype, acting_on_subspace)\u001b[0m\n\u001b[1;32m    <a href='file:///u/22/forbomc1/unix/.local/lib/python3.8/site-packages/netket/operator/_graph_operator.py?line=146'>147</a>\u001b[0m         operators\u001b[39m.\u001b[39mappend(bond_ops[\u001b[39m0\u001b[39m])\n\u001b[1;32m    <a href='file:///u/22/forbomc1/unix/.local/lib/python3.8/site-packages/netket/operator/_graph_operator.py?line=147'>148</a>\u001b[0m         acting_on\u001b[39m.\u001b[39mappend([u, v])\n\u001b[0;32m--> <a href='file:///u/22/forbomc1/unix/.local/lib/python3.8/site-packages/netket/operator/_graph_operator.py?line=149'>150</a>\u001b[0m \u001b[39msuper\u001b[39;49m()\u001b[39m.\u001b[39;49m\u001b[39m__init__\u001b[39;49m(hilbert, operators, acting_on, dtype\u001b[39m=\u001b[39;49mdtype)\n\u001b[1;32m    <a href='file:///u/22/forbomc1/unix/.local/lib/python3.8/site-packages/netket/operator/_graph_operator.py?line=150'>151</a>\u001b[0m \u001b[39mself\u001b[39m\u001b[39m.\u001b[39m_graph \u001b[39m=\u001b[39m graph\n",
      "File \u001b[0;32m~/.local/lib/python3.8/site-packages/netket/operator/_local_operator.py:100\u001b[0m, in \u001b[0;36mLocalOperator.__init__\u001b[0;34m(self, hilbert, operators, acting_on, constant, dtype)\u001b[0m\n\u001b[1;32m     <a href='file:///u/22/forbomc1/unix/.local/lib/python3.8/site-packages/netket/operator/_local_operator.py?line=90'>91</a>\u001b[0m     \u001b[39mraise\u001b[39;00m \u001b[39mValueError\u001b[39;00m(\n\u001b[1;32m     <a href='file:///u/22/forbomc1/unix/.local/lib/python3.8/site-packages/netket/operator/_local_operator.py?line=91'>92</a>\u001b[0m         dedent(\n\u001b[1;32m     <a href='file:///u/22/forbomc1/unix/.local/lib/python3.8/site-packages/netket/operator/_local_operator.py?line=92'>93</a>\u001b[0m             \u001b[39m\"\"\"LocalOperator needs an hilbert space with sorted state values at\u001b[39;00m\n\u001b[0;32m   (...)\u001b[0m\n\u001b[1;32m     <a href='file:///u/22/forbomc1/unix/.local/lib/python3.8/site-packages/netket/operator/_local_operator.py?line=95'>96</a>\u001b[0m         )\n\u001b[1;32m     <a href='file:///u/22/forbomc1/unix/.local/lib/python3.8/site-packages/netket/operator/_local_operator.py?line=96'>97</a>\u001b[0m     )\n\u001b[1;32m     <a href='file:///u/22/forbomc1/unix/.local/lib/python3.8/site-packages/netket/operator/_local_operator.py?line=98'>99</a>\u001b[0m \u001b[39m# Canonicalize input. From now on input is guaranteed to be in canonical order\u001b[39;00m\n\u001b[0;32m--> <a href='file:///u/22/forbomc1/unix/.local/lib/python3.8/site-packages/netket/operator/_local_operator.py?line=99'>100</a>\u001b[0m operators, acting_on, dtype \u001b[39m=\u001b[39m canonicalize_input(\n\u001b[1;32m    <a href='file:///u/22/forbomc1/unix/.local/lib/python3.8/site-packages/netket/operator/_local_operator.py?line=100'>101</a>\u001b[0m     \u001b[39mself\u001b[39;49m\u001b[39m.\u001b[39;49mhilbert, operators, acting_on, constant, dtype\u001b[39m=\u001b[39;49mdtype\n\u001b[1;32m    <a href='file:///u/22/forbomc1/unix/.local/lib/python3.8/site-packages/netket/operator/_local_operator.py?line=101'>102</a>\u001b[0m )\n\u001b[1;32m    <a href='file:///u/22/forbomc1/unix/.local/lib/python3.8/site-packages/netket/operator/_local_operator.py?line=102'>103</a>\u001b[0m \u001b[39mself\u001b[39m\u001b[39m.\u001b[39m_dtype \u001b[39m=\u001b[39m dtype\n\u001b[1;32m    <a href='file:///u/22/forbomc1/unix/.local/lib/python3.8/site-packages/netket/operator/_local_operator.py?line=103'>104</a>\u001b[0m \u001b[39mself\u001b[39m\u001b[39m.\u001b[39m_constant \u001b[39m=\u001b[39m np\u001b[39m.\u001b[39marray(constant, dtype\u001b[39m=\u001b[39mdtype)\n",
      "File \u001b[0;32m~/.local/lib/python3.8/site-packages/netket/operator/_local_operator_helpers.py:118\u001b[0m, in \u001b[0;36mcanonicalize_input\u001b[0;34m(hilbert, operators, acting_on, constant, dtype)\u001b[0m\n\u001b[1;32m    <a href='file:///u/22/forbomc1/unix/.local/lib/python3.8/site-packages/netket/operator/_local_operator_helpers.py?line=115'>116</a>\u001b[0m canonicalized_acting_on \u001b[39m=\u001b[39m []\n\u001b[1;32m    <a href='file:///u/22/forbomc1/unix/.local/lib/python3.8/site-packages/netket/operator/_local_operator_helpers.py?line=116'>117</a>\u001b[0m \u001b[39mfor\u001b[39;00m (operator, acting_on) \u001b[39min\u001b[39;00m \u001b[39mzip\u001b[39m(operators, acting_on):\n\u001b[0;32m--> <a href='file:///u/22/forbomc1/unix/.local/lib/python3.8/site-packages/netket/operator/_local_operator_helpers.py?line=117'>118</a>\u001b[0m     check_valid_opmatrix(hilbert, operator, acting_on)\n\u001b[1;32m    <a href='file:///u/22/forbomc1/unix/.local/lib/python3.8/site-packages/netket/operator/_local_operator_helpers.py?line=119'>120</a>\u001b[0m     \u001b[39mif\u001b[39;00m operator\u001b[39m.\u001b[39mdtype \u001b[39mis\u001b[39;00m \u001b[39mnot\u001b[39;00m dtype:\n\u001b[1;32m    <a href='file:///u/22/forbomc1/unix/.local/lib/python3.8/site-packages/netket/operator/_local_operator_helpers.py?line=120'>121</a>\u001b[0m         operator \u001b[39m=\u001b[39m cast_operator_matrix_dtype(operator, dtype\u001b[39m=\u001b[39mdtype)\n",
      "File \u001b[0;32m~/.local/lib/python3.8/site-packages/netket/operator/_local_operator_helpers.py:136\u001b[0m, in \u001b[0;36mcheck_valid_opmatrix\u001b[0;34m(hi, mat, acting_on)\u001b[0m\n\u001b[1;32m    <a href='file:///u/22/forbomc1/unix/.local/lib/python3.8/site-packages/netket/operator/_local_operator_helpers.py?line=132'>133</a>\u001b[0m expected_size \u001b[39m=\u001b[39m np\u001b[39m.\u001b[39mprod([hi\u001b[39m.\u001b[39mshape[aon] \u001b[39mfor\u001b[39;00m aon \u001b[39min\u001b[39;00m acting_on])\n\u001b[1;32m    <a href='file:///u/22/forbomc1/unix/.local/lib/python3.8/site-packages/netket/operator/_local_operator_helpers.py?line=134'>135</a>\u001b[0m \u001b[39mif\u001b[39;00m mat\u001b[39m.\u001b[39mshape \u001b[39m!=\u001b[39m (expected_size, expected_size):\n\u001b[0;32m--> <a href='file:///u/22/forbomc1/unix/.local/lib/python3.8/site-packages/netket/operator/_local_operator_helpers.py?line=135'>136</a>\u001b[0m     \u001b[39mraise\u001b[39;00m \u001b[39mValueError\u001b[39;00m(\n\u001b[1;32m    <a href='file:///u/22/forbomc1/unix/.local/lib/python3.8/site-packages/netket/operator/_local_operator_helpers.py?line=136'>137</a>\u001b[0m         \u001b[39mf\u001b[39m\u001b[39m\"\u001b[39m\u001b[39mThe matrix of the sub-operator acting on sites \u001b[39m\u001b[39m{\u001b[39;00macting_on\u001b[39m}\u001b[39;00m\u001b[39m \u001b[39m\u001b[39m\"\u001b[39m\n\u001b[1;32m    <a href='file:///u/22/forbomc1/unix/.local/lib/python3.8/site-packages/netket/operator/_local_operator_helpers.py?line=137'>138</a>\u001b[0m         \u001b[39mf\u001b[39m\u001b[39m\"\u001b[39m\u001b[39mmust have shape \u001b[39m\u001b[39m{\u001b[39;00mexpected_size, expected_size\u001b[39m}\u001b[39;00m\u001b[39m, \u001b[39m\u001b[39m\"\u001b[39m\n\u001b[1;32m    <a href='file:///u/22/forbomc1/unix/.local/lib/python3.8/site-packages/netket/operator/_local_operator_helpers.py?line=138'>139</a>\u001b[0m         \u001b[39mf\u001b[39m\u001b[39m\"\u001b[39m\u001b[39mbut it has shape \u001b[39m\u001b[39m{\u001b[39;00mmat\u001b[39m.\u001b[39mshape\u001b[39m}\u001b[39;00m\u001b[39m.\u001b[39m\u001b[39m\"\u001b[39m\n\u001b[1;32m    <a href='file:///u/22/forbomc1/unix/.local/lib/python3.8/site-packages/netket/operator/_local_operator_helpers.py?line=139'>140</a>\u001b[0m     )\n",
      "\u001b[0;31mValueError\u001b[0m: The matrix of the sub-operator acting on sites (0, 1) must have shape (9, 9), but it has shape (4, 4)."
     ]
    }
   ],
   "source": [
    "L = 10\n",
    "#g = nk.graph.Chain(length=L, pbc=True)\n",
    "\n",
    "edge_colors = []\n",
    "for i in range(0, L, 2):\n",
    "    edge_colors.append([i, (i+1)%L, 1])\n",
    "    #edge_colors.append([i, (i+2)%L, 2])\n",
    "\n",
    "# Define the netket graph object\n",
    "g = nk.graph.Graph(edges=edge_colors)\n",
    "\n",
    "N = g.n_nodes\n",
    "hi = nk.hilbert.Spin(s=1/2, N=N)\n",
    "\n",
    "# Should we use full spin vectors instead of just sigmaz?\n",
    "\n",
    "sx = [[0, 1], [1, 0]]\n",
    "sy = [[0, -1j], [1j, 0]]\n",
    "sz = [[1, 0], [0, -1]]\n",
    "mszsx = np.kron(sx, sx)\n",
    "mszsy = np.kron(sy, sy)\n",
    "mszsz = np.kron(sz, sz)\n",
    "print(mszsx)\n",
    "H0 = np.eye(4)*1/3\n",
    "H1 = (mszsx**2 + mszsy**2 + mszsz**2)*1/2\n",
    "H2 = H1**2*1/6\n",
    "\n",
    "siteops = []\n",
    "bondops = [H0+H1+H2]\n",
    "bondcols = [1]\n",
    "nk.operator.GraphOperator(hilbert=hi, graph=g, site_ops=siteops, bond_ops=bondops, bond_ops_colors=bondcols)"
   ]
  }
 ],
 "metadata": {
  "interpreter": {
   "hash": "31f2aee4e71d21fbe5cf8b01ff0e069b9275f58929596ceb00d14d90e3e16cd6"
  },
  "kernelspec": {
   "display_name": "Python 3.8.10 64-bit",
   "language": "python",
   "name": "python3"
  },
  "language_info": {
   "codemirror_mode": {
    "name": "ipython",
    "version": 3
   },
   "file_extension": ".py",
   "mimetype": "text/x-python",
   "name": "python",
   "nbconvert_exporter": "python",
   "pygments_lexer": "ipython3",
   "version": "3.8.10"
  },
  "orig_nbformat": 4
 },
 "nbformat": 4,
 "nbformat_minor": 2
}
