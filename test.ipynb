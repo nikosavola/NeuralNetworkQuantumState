{
 "cells": [
  {
   "cell_type": "code",
   "execution_count": 14,
   "metadata": {},
   "outputs": [],
   "source": [
    "import netket as nk\n",
    "from netket.operator.spin import sigmax, sigmay, sigmaz\n",
    "import numpy as np\n",
    "import json\n",
    "from math import pi\n"
   ]
  },
  {
   "cell_type": "code",
   "execution_count": 23,
   "metadata": {},
   "outputs": [
    {
     "name": "stdout",
     "output_type": "stream",
     "text": [
      "[[1], [0, 2], [1, 3], [2, 4], [3, 5], [4, 6], [5, 7], [6, 8], [7, 9], [8]]\n"
     ]
    }
   ],
   "source": [
    "\n",
    "L = 10\n",
    "g = nk.graph.Chain(length=L, pbc=False)\n",
    "N = g.n_nodes\n",
    "hi = nk.hilbert.Spin(s=1, N=N)\n",
    "\n",
    "H = 0\n",
    "#print(g.edges())\n",
    "print(g.adjacency_list())\n",
    "\n",
    "\n",
    "#print(sigmax(hi,0).to_dense())\n",
    "#print(sigmay(hi,0).to_dense())\n",
    "#print(sigmaz(hi,0).to_dense())\n",
    "\n",
    "for i, j in g.edges():\n",
    "    #operators, weights = ['XX','YY','ZZ'], [1,1,1]\n",
    "    #dotpr = nk.operator.PauliStrings(operators, weights)\n",
    "    dotpr = sigmaz(hi, i)*sigmaz(hi, j) + sigmax(hi, i)*sigmax(hi, j) + sigmay(hi, i)*sigmay(hi, j)\n",
    "    H += 1/2 * dotpr + 1/6 * dotpr*dotpr + 1/3"
   ]
  },
  {
   "cell_type": "code",
   "execution_count": 11,
   "metadata": {},
   "outputs": [
    {
     "data": {
      "text/plain": [
       "array([[4098.+0.j,    0.+0.j,    0.+0.j,    0.+0.j],\n",
       "       [   0.+0.j, 4098.+0.j,    0.+0.j,    0.+0.j],\n",
       "       [   0.+0.j,    0.+0.j, 4098.+0.j,    0.+0.j],\n",
       "       [   0.+0.j,    0.+0.j,    0.+0.j, 4098.+0.j]])"
      ]
     },
     "execution_count": 11,
     "metadata": {},
     "output_type": "execute_result"
    }
   ],
   "source": [
    "sx = np.array([[0, 1],[1, 0]], complex)\n",
    "sy = np.array([[0, -j],[j, 0]], complex)\n",
    "sz = np.array([[1, 0],[0, -1]], complex)\n",
    "\n",
    "SX = np.kron(sx, sx)\n",
    "SY = np.kron(sy, sy)\n",
    "SZ = np.kron(sz, sz)\n",
    "\n",
    "np.matmul(SX,SX) + np.matmul(SY,SY) + np.matmul(SZ,SZ)"
   ]
  },
  {
   "cell_type": "code",
   "execution_count": 39,
   "metadata": {},
   "outputs": [
    {
     "name": "stdout",
     "output_type": "stream",
     "text": [
      "[[0, 1, 1], [2, 3, 1], [4, 5, 1], [6, 7, 1], [8, 9, 1], [10, 11, 1], [12, 13, 1]]\n",
      "[[ 1  0  0  0]\n",
      " [ 0 -1  0  0]\n",
      " [ 0  0 -1  0]\n",
      " [ 0  0  0  1]]\n",
      "[[1, 0, 0, 0], [0, -1, 0, 0], [0, 0, -1, 0], [0, 0, 0, 1]]\n",
      "(4, 4, 4)\n",
      "[[[1, 0, 0, 0], [0, -1, 0, 0], [0, 0, -1, 0], [0, 0, 0, 1]], [[0.2, 0.0, 0.0, 0.0], [0.0, -0.2, 0.0, 0.0], [0.0, 0.0, -0.2, 0.0], [0.0, 0.0, 0.0, 0.2]], [[0, 0, 0, 0], [0, 0, -2, 0], [0, -2, 0, 0], [0, 0, 0, 0]], [[0.0, 0.0, 0.0, 0.0], [0.0, 0.0, 0.4, 0.0], [0.0, 0.4, 0.0, 0.0], [0.0, 0.0, 0.0, 0.0]]]\n"
     ]
    }
   ],
   "source": [
    "#Couplings J1 and J2\n",
    "J = [1, 0.2]\n",
    "L = 14\n",
    "\n",
    "# Define custom graph\n",
    "edge_colors = []\n",
    "for i in range(0, L, 2):\n",
    "    edge_colors.append([i, (i+1)%L, 1])\n",
    "    #edge_colors.append([i, (i+2)%L, 2])\n",
    "print(edge_colors)\n",
    "\n",
    "# Define the netket graph object\n",
    "g = nk.graph.Graph(edges=edge_colors)\n",
    "\n",
    "#Sigma^z*Sigma^z interactions\n",
    "sigmaz = [[1, 0], [0, -1]]\n",
    "mszsz = (np.kron(sigmaz, sigmaz))\n",
    "\n",
    "#Exchange interactions\n",
    "exchange = np.asarray([[0, 0, 0, 0], [0, 0, 2, 0], [0, 2, 0, 0], [0, 0, 0, 0]])\n",
    "\n",
    "print((J[0] * mszsz))\n",
    "print((J[0] * mszsz).tolist())\n",
    "\n",
    "bond_operator = [\n",
    "    (J[0] * mszsz).tolist(),\n",
    "    (J[1] * mszsz).tolist(),\n",
    "    (-J[0] * exchange).tolist(),  \n",
    "    (J[1] * exchange).tolist(),\n",
    "]\n",
    "\n",
    "bond_color = [1, 2, 1, 2]\n",
    "\n",
    "print(np.shape(bond_operator))\n",
    "print(bond_operator)"
   ]
  },
  {
   "cell_type": "code",
   "execution_count": 36,
   "metadata": {},
   "outputs": [
    {
     "name": "stdout",
     "output_type": "stream",
     "text": [
      "[[0.        +0.j 0.        +0.j 1.41421356+0.j 0.        +0.j]\n",
      " [0.        +0.j 0.        +0.j 0.        +0.j 1.41421356+0.j]\n",
      " [0.        +0.j 0.        +0.j 0.        +0.j 0.        +0.j]\n",
      " [0.        +0.j 0.        +0.j 0.        +0.j 0.        +0.j]]\n",
      "[[0.        +0.j 0.        +0.j 0.        +0.j 0.        +0.j]\n",
      " [0.        +0.j 0.        +0.j 0.        +0.j 0.        +0.j]\n",
      " [1.41421356+0.j 0.        +0.j 0.        +0.j 0.        +0.j]\n",
      " [0.        +0.j 1.41421356+0.j 0.        +0.j 0.        +0.j]]\n",
      "[[2. 0. 0. 0.]\n",
      " [0. 2. 0. 0.]\n",
      " [0. 0. 0. 0.]\n",
      " [0. 0. 0. 0.]]\n"
     ]
    }
   ],
   "source": [
    "Splus = np.sqrt(2)*np.array([[0, 0, 1, 0],[0, 0, 0, 1],[0, 0, 0, 0],[0, 0, 0, 0]], complex)\n",
    "Sminus = np.sqrt(2)*np.array([[0, 0, 1, 0],[0, 0, 0, 1],[0, 0, 0, 0],[0, 0, 0, 0]], complex).T\n",
    "\n",
    "print(Splus)\n",
    "print(Sminus)\n",
    "print(np.real(np.matmul(Splus, Sminus)))\n"
   ]
  },
  {
   "cell_type": "code",
   "execution_count": 42,
   "metadata": {},
   "outputs": [
    {
     "name": "stdout",
     "output_type": "stream",
     "text": [
      "[[0 0 0 1]\n",
      " [0 0 1 0]\n",
      " [0 1 0 0]\n",
      " [1 0 0 0]]\n"
     ]
    },
    {
     "data": {
      "text/plain": [
       "GraphOperator(dim=10, acting_on=[(0, 1), (2, 3), (4, 5), (6, 7), (8, 9)], constant=0j, dtype=complex128, graph=Graph(n_nodes=10, n_edges=5))"
      ]
     },
     "execution_count": 42,
     "metadata": {},
     "output_type": "execute_result"
    }
   ],
   "source": [
    "L = 10\n",
    "#g = nk.graph.Chain(length=L, pbc=True)\n",
    "\n",
    "edge_colors = []\n",
    "for i in range(0, L, 2):\n",
    "    edge_colors.append([i, (i+1)%L, 1])\n",
    "    #edge_colors.append([i, (i+2)%L, 2])\n",
    "\n",
    "# Define the netket graph object\n",
    "g = nk.graph.Graph(edges=edge_colors)\n",
    "\n",
    "N = g.n_nodes\n",
    "hi = nk.hilbert.Spin(s=1/2, N=N)\n",
    "\n",
    "# Should we use full spin vectors instead of just sigmaz?\n",
    "\n",
    "sx = [[0, 1], [1, 0]]\n",
    "sy = [[0, -1j], [1j, 0]]\n",
    "sz = [[1, 0], [0, -1]]\n",
    "mszsx = np.kron(sx, sx)\n",
    "mszsy = np.kron(sy, sy)\n",
    "mszsz = np.kron(sz, sz)\n",
    "print(mszsx)\n",
    "H0 = np.eye(4)*1/3\n",
    "H1 = (mszsx**2 + mszsy**2 + mszsz**2)*1/2\n",
    "H2 = H1**2*1/6\n",
    "\n",
    "siteops = []\n",
    "bondops = [H0+H1+H2]\n",
    "bondcols = [1]\n",
    "nk.operator.GraphOperator(hilbert=hi, graph=g, site_ops=siteops, bond_ops=bondops, bond_ops_colors=bondcols)"
   ]
  }
 ],
 "metadata": {
  "interpreter": {
   "hash": "31f2aee4e71d21fbe5cf8b01ff0e069b9275f58929596ceb00d14d90e3e16cd6"
  },
  "kernelspec": {
   "display_name": "Python 3.8.10 64-bit",
   "language": "python",
   "name": "python3"
  },
  "language_info": {
   "codemirror_mode": {
    "name": "ipython",
    "version": 3
   },
   "file_extension": ".py",
   "mimetype": "text/x-python",
   "name": "python",
   "nbconvert_exporter": "python",
   "pygments_lexer": "ipython3",
   "version": "3.8.10"
  },
  "orig_nbformat": 4
 },
 "nbformat": 4,
 "nbformat_minor": 2
}
