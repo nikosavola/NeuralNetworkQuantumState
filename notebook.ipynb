{
 "cells": [
  {
   "cell_type": "markdown",
   "metadata": {},
   "source": [
    "# Neural Network Quantum State\n",
    "\n"
   ]
  },
  {
   "cell_type": "code",
   "execution_count": 1,
   "metadata": {},
   "outputs": [
    {
     "name": "stderr",
     "output_type": "stream",
     "text": [
      "<ipython-input-1-a8820b2d62cf>:18: TqdmExperimentalWarning: Using `tqdm.autonotebook.tqdm` in notebook mode. Use `tqdm.tqdm` instead to force console mode (e.g. in jupyter console)\n",
      "  from tqdm.autonotebook import tqdm\n"
     ]
    }
   ],
   "source": [
    "import os\n",
    "import json\n",
    "import time\n",
    "\n",
    "import pandas as pd\n",
    "import matplotlib.pyplot as plt\n",
    "import jax\n",
    "import jax.numpy as jnp\n",
    "import flax\n",
    "import ray\n",
    "# import flax.linen as nn\n",
    "import netket as nk\n",
    "import netket.nn as nn\n",
    "\n",
    "from scipy.sparse.linalg import eigsh\n",
    "from netket.operator.spin import sigmaz, sigmax \n",
    "from ray import tune\n",
    "from tqdm.autonotebook import tqdm\n",
    "from IPython.display import display\n",
    "\n",
    "# Our source code\n",
    "from model import OurModel, setup_problem, setup_model, ray_train_loop"
   ]
  },
  {
   "cell_type": "code",
   "execution_count": 2,
   "metadata": {},
   "outputs": [
    {
     "name": "stdout",
     "output_type": "stream",
     "text": [
      "nk.utils.mpi.available=False\n"
     ]
    },
    {
     "data": {
      "text/plain": [
       "RayContext(dashboard_url='', python_version='3.9.1', ray_version='1.12.0', ray_commit='f18fc31c7562990955556899090f8e8656b48d2d', address_info={'node_ip_address': '127.0.0.1', 'raylet_ip_address': '127.0.0.1', 'redis_address': None, 'object_store_address': '/tmp/ray/session_2022-05-16_17-32-15_972185_64790/sockets/plasma_store', 'raylet_socket_name': '/tmp/ray/session_2022-05-16_17-32-15_972185_64790/sockets/raylet', 'webui_url': '', 'session_dir': '/tmp/ray/session_2022-05-16_17-32-15_972185_64790', 'metrics_export_port': 60210, 'gcs_address': '127.0.0.1:60277', 'address': '127.0.0.1:60277', 'node_id': 'b19df83d78c01ccbf860df4dea6636f76a005f135ced10939e1eae27'})"
      ]
     },
     "execution_count": 2,
     "metadata": {},
     "output_type": "execute_result"
    }
   ],
   "source": [
    "os.environ[\"JAX_PLATFORM_NAME\"] = \"cpu\" # or gpu\n",
    "# os.environ[\"RAY_PICKLE_VERBOSE_DEBUG\"] = \"1\" # RAY DEBUG\n",
    "# os.environ[\"XLA_FLAGS\"] = \"--xla_gpu_force_compilation_parallelism=1\"  # force gpu w/o right drivers\n",
    "\n",
    "skip_training = False\n",
    "print(f'{nk.utils.mpi.available=}')\n",
    "\n",
    "# Force detecting GPU in WSL\n",
    "ray.shutdown()\n",
    "ray.init(num_gpus=1)"
   ]
  },
  {
   "cell_type": "code",
   "execution_count": 3,
   "metadata": {},
   "outputs": [
    {
     "data": {
      "text/html": [
       "== Status ==<br>Current time: 2022-05-16 17:35:50 (running for 00:03:26.30)<br>Memory usage on this node: 5.7/8.0 GiB<br>Using AsyncHyperBand: num_stopped=0\n",
       "Bracket: Iter 80.000: None | Iter 20.000: None<br>Resources requested: 0/4 CPUs, 0/1 GPUs, 0.0/2.1 GiB heap, 0.0/1.05 GiB objects<br>Result logdir: /Users/wisaforbom/ray_results/ray_train_loop_2022-05-16_17-32-24<br>Number of trials: 1/10 (1 PENDING)<br><table>\n",
       "<thead>\n",
       "<tr><th>Trial name             </th><th>status  </th><th>loc  </th><th style=\"text-align: right;\">  learning_rate</th><th style=\"text-align: right;\">  model/alpha</th><th style=\"text-align: right;\">  n_epochs</th><th style=\"text-align: right;\">  n_samples</th></tr>\n",
       "</thead>\n",
       "<tbody>\n",
       "<tr><td>ray_train_loop_008e3620</td><td>PENDING </td><td>     </td><td style=\"text-align: right;\">      0.0996338</td><td style=\"text-align: right;\">            2</td><td style=\"text-align: right;\">       300</td><td style=\"text-align: right;\">       1008</td></tr>\n",
       "</tbody>\n",
       "</table><br><br>"
      ],
      "text/plain": [
       "<IPython.core.display.HTML object>"
      ]
     },
     "metadata": {},
     "output_type": "display_data"
    },
    {
     "name": "stderr",
     "output_type": "stream",
     "text": [
      "2022-05-16 17:35:50,670\tERROR tune.py:697 -- Trials did not complete: [ray_train_loop_008e3620]\n",
      "2022-05-16 17:35:50,672\tINFO tune.py:701 -- Total run time: 206.55 seconds (206.29 seconds for the tuning loop).\n",
      "2022-05-16 17:35:50,674\tWARNING tune.py:707 -- Experiment has been interrupted, but the most recent state was saved. You can continue running this experiment by passing `resume=True` to `tune.run()`\n"
     ]
    }
   ],
   "source": [
    "if not skip_training:\n",
    "    from ray.tune.suggest.hyperopt import HyperOptSearch\n",
    "    \n",
    "    search_space = {\n",
    "        'model': {\n",
    "            'alpha': tune.randint(1, 3+1), # last value exclusive\n",
    "        },\n",
    "        # 'activation': tune.choice(['tanh', 'sigmoid']),\n",
    "        'learning_rate': tune.uniform(0.0, 0.1),\n",
    "        'n_epochs': 300, #tune.qrandint(100, 300, 50),\n",
    "        'n_samples': 1008, #tune.qrandint(100, 1000, 100),\n",
    "    }\n",
    "    \n",
    "    metric = \"energy_error\"\n",
    "    mode = \"min\"\n",
    "\n",
    "    hyperopt_search = HyperOptSearch(metric=metric, mode=mode)\n",
    "    hyper_band_scheduler = tune.schedulers.ASHAScheduler(\n",
    "        metric=metric,\n",
    "        mode=mode,\n",
    "        max_t=search_space['n_epochs'].max_value if isinstance(search_space['n_epochs'], tune.sample.Sampler) else search_space['n_epochs'],\n",
    "        grace_period=20\n",
    "    )\n",
    "\n",
    "    analysis = tune.run(\n",
    "        ray_train_loop,\n",
    "        config=search_space,\n",
    "        progress_reporter=tune.JupyterNotebookReporter(True, [metric]),\n",
    "        scheduler=hyper_band_scheduler,\n",
    "        resources_per_trial={\"cpu\": 6, 'gpu': 1/2},\n",
    "        search_alg=hyperopt_search,\n",
    "        num_samples=10,\n",
    "        resume='AUTO',\n",
    "        # metric=metric,\n",
    "        # mode=mode,\n",
    "    )"
   ]
  },
  {
   "cell_type": "markdown",
   "metadata": {},
   "source": [
    "### Select best model parameters"
   ]
  },
  {
   "cell_type": "code",
   "execution_count": null,
   "metadata": {},
   "outputs": [],
   "source": [
    "# TODO\n",
    "\n",
    "hyperparams = {\n",
    "    'model': {\n",
    "        'alpha': 1\n",
    "    },\n",
    "    'learning_rate': 0.1,\n",
    "    'n_epochs': 100,\n",
    "    'n_samples': 1008,\n",
    "}\n",
    "\n",
    "H, hi, sampler = setup_problem()\n",
    "eig_vals, _ = eigsh(H.to_sparse(), k=2, which=\"SA\")\n",
    "vstate, model, trainer = setup_model(H, hi, sampler, hyperparams)\n",
    "display(f'{vstate.n_parameters=}')\n",
    "log = nk.logging.RuntimeLog()"
   ]
  },
  {
   "cell_type": "code",
   "execution_count": null,
   "metadata": {},
   "outputs": [
    {
     "name": "stderr",
     "output_type": "stream",
     "text": [
      "100%|██████████| 100/100 [00:59<00:00,  1.67it/s, Energy=-4.000e+00+0.000e+00j ± 4.129e-17 [σ²=1.719e-30, R̂=1.0275]]\n"
     ]
    },
    {
     "name": "stdout",
     "output_type": "stream",
     "text": [
      "Optimized energy and relative error:  -4.000e+00+0.000e+00j ± 4.139e-17 [σ²=1.727e-30, R̂=1.0204] 0.5000000000000006\n"
     ]
    }
   ],
   "source": [
    "trainer.run(n_iter=hyperparams['n_epochs'], out=log)\n",
    "\n",
    "ffn_energy = vstate.expect(H)\n",
    "error = abs((ffn_energy.mean-eig_vals[0])/eig_vals[0])\n",
    "print(\"Optimized energy and relative error: \", ffn_energy, error)"
   ]
  },
  {
   "cell_type": "code",
   "execution_count": null,
   "metadata": {},
   "outputs": [],
   "source": [
    "# TODO load saved model\n",
    "if skip_training:\n",
    "    pass"
   ]
  },
  {
   "cell_type": "markdown",
   "metadata": {},
   "source": [
    "## Results"
   ]
  },
  {
   "cell_type": "code",
   "execution_count": null,
   "metadata": {},
   "outputs": [
    {
     "name": "stderr",
     "output_type": "stream",
     "text": [
      "/home/nikosavola/.local/lib/python3.9/site-packages/matplotlib/cbook/__init__.py:1298: ComplexWarning: Casting complex values to real discards the imaginary part\n",
      "  return np.asarray(x, float)\n",
      "/home/nikosavola/.local/lib/python3.9/site-packages/numpy/ma/core.py:3379: ComplexWarning: Casting complex values to real discards the imaginary part\n",
      "  _data[indx] = dval\n"
     ]
    },
    {
     "data": {
      "text/plain": [
       "Text(0, 0.5, 'Energy')"
      ]
     },
     "execution_count": 36,
     "metadata": {},
     "output_type": "execute_result"
    },
    {
     "data": {
      "image/png": "[encoded data removed]",
      "text/plain": [
       "<Figure size 432x288 with 1 Axes>"
      ]
     },
     "metadata": {
      "needs_background": "light"
     },
     "output_type": "display_data"
    }
   ],
   "source": [
    "data = log.data\n",
    "\n",
    "plt.errorbar(data[\"Energy\"].iters, data[\"Energy\"].Mean, yerr=data[\"Energy\"].Sigma, label=\"FFN\")\n",
    "#plt.hlines([E_gs_analytic], xmin=0, xmax=data[\"Energy\"].iters.max(), color='black', label=\"Exact\")\n",
    "plt.hlines([eig_vals], xmin=0, xmax=data[\"Energy\"].iters.max(), color='black', label=\"Exact\")\n",
    "plt.legend()\n",
    "\n",
    "plt.xlabel('Iterations')\n",
    "plt.ylabel('Energy')"
   ]
  },
  {
   "cell_type": "markdown",
   "metadata": {},
   "source": [
    "### Wavefunctions"
   ]
  },
  {
   "cell_type": "code",
   "execution_count": null,
   "metadata": {},
   "outputs": [
    {
     "data": {
      "text/plain": [
       "DeviceArray([ 4.48094259e-06-4.42933424e-07j,\n",
       "             -4.47246002e-05-5.14152626e-05j,\n",
       "             -6.35847623e-06-2.07838287e-06j,\n",
       "              1.43870870e-07+2.80061797e-06j,\n",
       "              1.41363810e-04+9.94959777e-05j,\n",
       "              2.75205292e-04-9.25127316e-04j,\n",
       "             -1.05314479e-04-2.22200141e-05j,\n",
       "             -1.21471789e-05+2.01458061e-05j,\n",
       "              2.19418886e-06-1.87331395e-05j,\n",
       "             -3.41865667e-04+1.49179931e-04j,\n",
       "             -9.71009718e-06+3.29754605e-06j,\n",
       "              1.39299868e-05+1.18404414e-05j,\n",
       "              3.07536311e-05-9.63725121e-06j,\n",
       "             -1.56989462e-04-1.13678566e-04j,\n",
       "             -1.15647218e-05-2.88649630e-06j,\n",
       "             -2.70049349e-07+8.26365649e-06j,\n",
       "              2.36257195e-05-8.23910182e-05j,\n",
       "             -2.77582642e-04-1.69836626e-04j,\n",
       "             -6.00868892e-05-1.95755711e-05j,\n",
       "             -1.63371916e-05+1.52438411e-06j,\n",
       "              6.55050497e-03-1.08747855e-03j,\n",
       "              1.22178569e-02-1.49436787e-02j,\n",
       "             -5.02142872e-03-5.01389191e-03j,\n",
       "             -4.69616693e-04-1.85757111e-04j,\n",
       "             -4.01474058e-06-4.85843842e-06j,\n",
       "             -9.58387187e-05+5.79650738e-05j,\n",
       "             -4.16709453e-06+1.03003920e-06j,\n",
       "             -1.38688909e-06+3.00246131e-06j,\n",
       "              4.65592465e-05-3.89510788e-05j,\n",
       "             -1.23442210e-04-5.03513007e-04j,\n",
       "             -2.61026364e-05-2.77225976e-05j,\n",
       "             -7.79050420e-06+2.51955910e-06j,\n",
       "              2.67076195e-06-1.65659459e-06j,\n",
       "             -6.07963992e-05-1.84562943e-05j,\n",
       "             -6.51138903e-06+2.71258240e-06j,\n",
       "              8.13232825e-07+3.00613021e-06j,\n",
       "              1.13423245e-06+8.69703429e-07j,\n",
       "             -9.33841851e-06-2.70078812e-05j,\n",
       "             -6.54754454e-06-2.07221549e-07j,\n",
       "             -7.78826664e-07+6.23210612e-07j,\n",
       "              1.54229388e-05-2.37090893e-05j,\n",
       "             -5.69384167e-04+5.25006119e-05j,\n",
       "             -3.42421645e-05-1.21881300e-05j,\n",
       "             -5.58763375e-06+2.74637908e-05j,\n",
       "              6.75881022e-06+5.11211969e-06j,\n",
       "              3.23634092e-05-1.41786449e-04j,\n",
       "             -5.53300017e-07-1.10943584e-05j,\n",
       "             -6.99856578e-06-1.35391731e-06j,\n",
       "              5.09009372e-07-2.76106121e-06j,\n",
       "             -3.54233433e-05-3.70118429e-05j,\n",
       "             -6.01369378e-06-7.18956400e-06j,\n",
       "             -1.49223734e-06-1.27481286e-07j,\n",
       "              3.86847897e-05+1.67099281e-05j,\n",
       "              7.65807654e-05-7.03849958e-05j,\n",
       "              2.83147927e-05-5.98687125e-05j,\n",
       "             -1.97751783e-06-5.95506330e-06j,\n",
       "              1.14399755e-06-4.98712176e-06j,\n",
       "             -5.18702010e-05-8.94945838e-05j,\n",
       "             -6.49918116e-07-1.04826566e-05j,\n",
       "             -4.97842595e-06-9.59507379e-07j,\n",
       "              1.60723749e-06+1.08582521e-06j,\n",
       "              3.96007923e-05-2.60120969e-05j,\n",
       "              4.21679945e-06-1.48404579e-06j,\n",
       "              2.37961596e-07-1.26738410e-06j,\n",
       "             -5.49445980e-06-4.03347622e-05j,\n",
       "             -8.84518331e-05+2.33652712e-05j,\n",
       "             -4.53923781e-05+1.38006048e-04j,\n",
       "              2.73161047e-06+9.15640538e-07j,\n",
       "              5.24915945e-04-4.49515991e-03j,\n",
       "             -4.86931214e-03-1.32172828e-03j,\n",
       "             -3.95904935e-03+5.53964604e-03j,\n",
       "              1.42468456e-04+2.91176450e-05j,\n",
       "             -1.15434445e-05-1.17008918e-05j,\n",
       "             -3.58776489e-05+8.85663204e-05j,\n",
       "             -3.36465558e-07+1.80269672e-05j,\n",
       "              4.68368968e-06+0.00000000e+00j,\n",
       "             -1.44176556e-05-1.13863643e-04j,\n",
       "             -2.34862146e-04+1.30332725e-04j,\n",
       "             -5.26127753e-05+2.10173099e-04j,\n",
       "              7.28911639e-06+1.55986057e-07j,\n",
       "             -4.46210128e-03-1.10329871e-03j,\n",
       "             -1.51035838e-03+3.54662802e-03j,\n",
       "              5.19190323e-04+6.89590951e-03j,\n",
       "              9.97283366e-05+9.27444595e-05j,\n",
       "             -4.53228755e-01-2.46924445e-01j,\n",
       "             -3.10885596e-01+1.81977203e-01j,\n",
       "              1.11947167e-01+7.68405311e-01j,\n",
       "              6.42740172e-03+8.53138262e-03j,\n",
       "             -2.78141704e-05+2.64666717e-05j,\n",
       "              1.20855287e-04+4.37110310e-05j,\n",
       "              6.07398126e-05+6.27050743e-05j,\n",
       "              1.74447640e-06+1.24196797e-06j,\n",
       "             -2.75484222e-03+2.85000937e-04j,\n",
       "             -5.62895698e-04+3.32883382e-03j,\n",
       "             -4.36655080e-04+4.14385316e-03j,\n",
       "              3.27978737e-05+9.16058680e-05j,\n",
       "             -5.94352255e-06-2.05971480e-06j,\n",
       "             -4.68891995e-06+1.55871925e-05j,\n",
       "             -1.37484681e-06+2.49208110e-05j,\n",
       "              1.01969169e-06+0.00000000e+00j,\n",
       "             -9.80174199e-06-3.92285398e-05j,\n",
       "             -2.88626519e-05+1.64785684e-05j,\n",
       "              2.13404796e-07+1.34338916e-04j,\n",
       "              2.68447519e-06+6.93737876e-07j,\n",
       "             -1.18505864e-05-1.45126814e-05j,\n",
       "             -1.81682979e-05+1.45357042e-04j,\n",
       "             -3.94608895e-05+3.50952336e-05j,\n",
       "              7.67663364e-06+3.20156933e-06j,\n",
       "              9.28792244e-06-1.18894584e-05j,\n",
       "             -3.70775111e-05+3.66485167e-06j,\n",
       "             -2.07476569e-05+1.46985835e-05j,\n",
       "              1.42968960e-06+2.71251677e-06j,\n",
       "             -6.30601174e-05+3.60596260e-05j,\n",
       "             -6.07048453e-06+6.46611644e-05j,\n",
       "              3.94688700e-05+1.39222039e-04j,\n",
       "              4.82568492e-06+4.63521891e-06j,\n",
       "             -4.24870846e-03-1.79237183e-03j,\n",
       "             -1.35487383e-03+3.19430622e-04j,\n",
       "             -3.34554760e-03+6.07778090e-03j,\n",
       "              1.55115656e-05+1.11345760e-04j,\n",
       "             -1.78129545e-05+2.62921970e-06j,\n",
       "              3.54652630e-06+4.41948400e-05j,\n",
       "             -3.71039089e-05+3.46253390e-05j,\n",
       "              7.41846222e-08+2.89919779e-06j,\n",
       "             -1.89470059e-05-3.52134829e-05j,\n",
       "             -4.94101590e-05-1.39271972e-05j,\n",
       "             -8.08552646e-05-4.99625200e-06j,\n",
       "             -1.76247772e-06+9.41370725e-07j], dtype=complex128)"
      ]
     },
     "execution_count": 49,
     "metadata": {},
     "output_type": "execute_result"
    }
   ],
   "source": [
    "ket = vstate.to_array()\n",
    "\n",
    "ket"
   ]
  },
  {
   "cell_type": "code",
   "execution_count": null,
   "metadata": {},
   "outputs": [
    {
     "data": {
      "text/plain": [
       "QGTOnTheFly(diag_shift=0.0)"
      ]
     },
     "execution_count": 50,
     "metadata": {},
     "output_type": "execute_result"
    }
   ],
   "source": [
    "# get quantum geometric tensor of state\n",
    "# https://github.com/netket/netket/blob/2a7dded3db4705099d4de5450006b46b32ce34ca/netket/optimizer/qgt/qgt_onthefly_logic.py\n",
    "qgt = vstate.quantum_geometric_tensor()\n",
    "qgt"
   ]
  },
  {
   "cell_type": "code",
   "execution_count": null,
   "metadata": {},
   "outputs": [
    {
     "data": {
      "text/plain": [
       "DeviceArray([[0., 0., 0., ..., 0., 0., 0.],\n",
       "             [0., 0., 0., ..., 0., 0., 0.],\n",
       "             [0., 0., 0., ..., 0., 0., 0.],\n",
       "             ...,\n",
       "             [0., 0., 0., ..., 0., 0., 0.],\n",
       "             [0., 0., 0., ..., 0., 0., 0.],\n",
       "             [0., 0., 0., ..., 0., 0., 0.]], dtype=float64)"
      ]
     },
     "execution_count": 51,
     "metadata": {},
     "output_type": "execute_result"
    }
   ],
   "source": [
    "QGT = qgt.to_dense()\n",
    "jnp.imag(QGT)"
   ]
  },
  {
   "cell_type": "code",
   "execution_count": null,
   "metadata": {},
   "outputs": [],
   "source": []
  },
  {
   "cell_type": "markdown",
   "metadata": {},
   "source": [
    "# The AKLT Model\n",
    "\n",
    "The AKLT model is an extension to the simple 1D Heisenberg spin model, proposed in 1987 by Affleck, I. et al.:\n",
    "\n",
    "https://journals.aps.org/prl/abstract/10.1103/PhysRevLett.59.799\n",
    "\n",
    "The model is essentially a 1D chain of spin-1/2 nuclei which form pairs. A constraint of having two spin-1/2 nuclei for each site is further imposed, which leads to the system being effectively a spin-1 system. This can be understood then to be a chain of these spin-1 \"composite\" nuclei. \n",
    "\n",
    "In the ground state of this Hamiltonian, every dimerized pair is referred to as a site and is given by a \n",
    "\n",
    "The AKLT Hamiltonian is given by a linear combination of the spin-1 projection operators in the respective Hilbert space $$\\mathcal{H} \\subset \\mathbb{C}^3$$."
   ]
  },
  {
   "cell_type": "markdown",
   "metadata": {},
   "source": []
  }
 ],
 "metadata": {
  "interpreter": {
   "hash": "aee8b7b246df8f9039afb4144a1f6fd8d2ca17a180786b69acc140d282b71a49"
  },
  "kernelspec": {
   "display_name": "Python 3.9.1 64-bit",
   "language": "python",
   "name": "python3"
  },
  "language_info": {
   "codemirror_mode": {
    "name": "ipython",
    "version": 3
   },
   "file_extension": ".py",
   "mimetype": "text/x-python",
   "name": "python",
   "nbconvert_exporter": "python",
   "pygments_lexer": "ipython3",
   "version": "3.9.1"
  },
  "orig_nbformat": 4
 },
 "nbformat": 4,
 "nbformat_minor": 2
}
