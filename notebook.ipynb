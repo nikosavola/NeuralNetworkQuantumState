{
 "cells": [
  {
   "cell_type": "markdown",
   "metadata": {},
   "source": [
    "# Neural Network Quantum State\n",
    "\n"
   ]
  },
  {
   "cell_type": "code",
   "execution_count": 1,
   "metadata": {},
   "outputs": [
    {
     "name": "stderr",
     "output_type": "stream",
     "text": [
      "/tmp/ipykernel_25356/1982775363.py:18: TqdmExperimentalWarning: Using `tqdm.autonotebook.tqdm` in notebook mode. Use `tqdm.tqdm` instead to force console mode (e.g. in jupyter console)\n",
      "  from tqdm.autonotebook import tqdm\n"
     ]
    }
   ],
   "source": [
    "import os\n",
    "import json\n",
    "import time\n",
    "\n",
    "import pandas as pd\n",
    "import matplotlib.pyplot as plt\n",
    "import jax\n",
    "import jax.numpy as jnp\n",
    "import flax\n",
    "import ray\n",
    "# import flax.linen as nn\n",
    "import netket as nk\n",
    "import netket.nn as nn\n",
    "\n",
    "from scipy.sparse.linalg import eigsh\n",
    "from netket.operator.spin import sigmaz, sigmax \n",
    "from ray import tune\n",
    "from tqdm.autonotebook import tqdm\n",
    "from IPython.display import display\n",
    "\n",
    "# Our source code\n",
    "# Change the imported model to aklt_model etc.\n",
    "from j1j2_model import OurModel, setup_problem, setup_model, ray_train_loop "
   ]
  },
  {
   "cell_type": "code",
   "execution_count": null,
   "metadata": {},
   "outputs": [],
   "source": []
  },
  {
   "cell_type": "code",
   "execution_count": 2,
   "metadata": {},
   "outputs": [
    {
     "name": "stdout",
     "output_type": "stream",
     "text": [
      "nk.utils.mpi.available=False\n"
     ]
    },
    {
     "data": {
      "text/plain": [
       "RayContext(dashboard_url='', python_version='3.8.10', ray_version='1.12.0', ray_commit='f18fc31c7562990955556899090f8e8656b48d2d', address_info={'node_ip_address': '172.22.24.106', 'raylet_ip_address': '172.22.24.106', 'redis_address': None, 'object_store_address': '/tmp/ray/session_2022-05-20_02-25-11_018199_25356/sockets/plasma_store', 'raylet_socket_name': '/tmp/ray/session_2022-05-20_02-25-11_018199_25356/sockets/raylet', 'webui_url': '', 'session_dir': '/tmp/ray/session_2022-05-20_02-25-11_018199_25356', 'metrics_export_port': 61934, 'gcs_address': '172.22.24.106:62666', 'address': '172.22.24.106:62666', 'node_id': 'e03545fcea9c41ddea12dfc884e85d1e22c1fa8568336b860b07ed4a'})"
      ]
     },
     "execution_count": 2,
     "metadata": {},
     "output_type": "execute_result"
    }
   ],
   "source": [
    "os.environ[\"JAX_PLATFORM_NAME\"] = \"cpu\" # or gpu\n",
    "# os.environ[\"RAY_PICKLE_VERBOSE_DEBUG\"] = \"1\" # RAY DEBUG\n",
    "# os.environ[\"XLA_FLAGS\"] = \"--xla_gpu_force_compilation_parallelism=1\"  # force gpu w/o right drivers\n",
    "\n",
    "skip_training = False\n",
    "print(f'{nk.utils.mpi.available=}')\n",
    "\n",
    "# Force detecting GPU in WSL\n",
    "ray.shutdown()\n",
    "ray.init(num_gpus=1)"
   ]
  },
  {
   "cell_type": "code",
   "execution_count": 3,
   "metadata": {},
   "outputs": [
    {
     "data": {
      "text/html": [
       "== Status ==<br>Current time: 2022-05-20 01:35:45 (running for 00:01:56.08)<br>Memory usage on this node: 2.5/15.6 GiB<br>Using AsyncHyperBand: num_stopped=10\n",
       "Bracket: Iter 80.000: -22.870462201836315 | Iter 20.000: -34.65436380028761<br>Resources requested: 0/12 CPUs, 0/1 GPUs, 0.0/8.34 GiB heap, 0.0/4.17 GiB objects<br>Result logdir: /home/dzupdu/ray_results/ray_train_loop_2022-05-20_01-33-49<br>Number of trials: 10/10 (10 TERMINATED)<br><table>\n",
       "<thead>\n",
       "<tr><th>Trial name             </th><th>status    </th><th>loc               </th><th style=\"text-align: right;\">  learning_rate</th><th style=\"text-align: right;\">  model/alpha</th><th style=\"text-align: right;\">  n_epochs</th><th style=\"text-align: right;\">  n_samples</th><th style=\"text-align: right;\">  energy_error</th></tr>\n",
       "</thead>\n",
       "<tbody>\n",
       "<tr><td>ray_train_loop_c0f86430</td><td>TERMINATED</td><td>172.22.24.106:3190</td><td style=\"text-align: right;\">      0.0974686</td><td style=\"text-align: right;\">            3</td><td style=\"text-align: right;\">       300</td><td style=\"text-align: right;\">       1008</td><td style=\"text-align: right;\">       48.1697</td></tr>\n",
       "<tr><td>ray_train_loop_c256204c</td><td>TERMINATED</td><td>172.22.24.106:3221</td><td style=\"text-align: right;\">      0.0950219</td><td style=\"text-align: right;\">            2</td><td style=\"text-align: right;\">       300</td><td style=\"text-align: right;\">       1008</td><td style=\"text-align: right;\">       46.5158</td></tr>\n",
       "<tr><td>ray_train_loop_c258af74</td><td>TERMINATED</td><td>172.22.24.106:3769</td><td style=\"text-align: right;\">      0.0975115</td><td style=\"text-align: right;\">            3</td><td style=\"text-align: right;\">       300</td><td style=\"text-align: right;\">       1008</td><td style=\"text-align: right;\">       39.3891</td></tr>\n",
       "<tr><td>ray_train_loop_cd23d23a</td><td>TERMINATED</td><td>172.22.24.106:3986</td><td style=\"text-align: right;\">      0.0695858</td><td style=\"text-align: right;\">            1</td><td style=\"text-align: right;\">       300</td><td style=\"text-align: right;\">       1008</td><td style=\"text-align: right;\">       43.0032</td></tr>\n",
       "<tr><td>ray_train_loop_d0b71bfa</td><td>TERMINATED</td><td>172.22.24.106:4586</td><td style=\"text-align: right;\">      0.0331873</td><td style=\"text-align: right;\">            1</td><td style=\"text-align: right;\">       300</td><td style=\"text-align: right;\">       1008</td><td style=\"text-align: right;\">       23.4126</td></tr>\n",
       "<tr><td>ray_train_loop_dc0b6330</td><td>TERMINATED</td><td>172.22.24.106:4619</td><td style=\"text-align: right;\">      0.0425044</td><td style=\"text-align: right;\">            2</td><td style=\"text-align: right;\">       300</td><td style=\"text-align: right;\">       1008</td><td style=\"text-align: right;\">       50.1842</td></tr>\n",
       "<tr><td>ray_train_loop_dca49bea</td><td>TERMINATED</td><td>172.22.24.106:5327</td><td style=\"text-align: right;\">      0.0978462</td><td style=\"text-align: right;\">            1</td><td style=\"text-align: right;\">       300</td><td style=\"text-align: right;\">       1008</td><td style=\"text-align: right;\">       37.6578</td></tr>\n",
       "<tr><td>ray_train_loop_eaf23f18</td><td>TERMINATED</td><td>172.22.24.106:5496</td><td style=\"text-align: right;\">      0.0905673</td><td style=\"text-align: right;\">            2</td><td style=\"text-align: right;\">       300</td><td style=\"text-align: right;\">       1008</td><td style=\"text-align: right;\">       40.7879</td></tr>\n",
       "<tr><td>ray_train_loop_eded37c2</td><td>TERMINATED</td><td>172.22.24.106:5781</td><td style=\"text-align: right;\">      0.060277 </td><td style=\"text-align: right;\">            3</td><td style=\"text-align: right;\">       300</td><td style=\"text-align: right;\">       1008</td><td style=\"text-align: right;\">       41.1898</td></tr>\n",
       "<tr><td>ray_train_loop_f5147f9c</td><td>TERMINATED</td><td>172.22.24.106:5971</td><td style=\"text-align: right;\">      0.0418486</td><td style=\"text-align: right;\">            1</td><td style=\"text-align: right;\">       300</td><td style=\"text-align: right;\">       1008</td><td style=\"text-align: right;\">       46.9368</td></tr>\n",
       "</tbody>\n",
       "</table><br><br>"
      ],
      "text/plain": [
       "<IPython.core.display.HTML object>"
      ]
     },
     "metadata": {},
     "output_type": "display_data"
    },
    {
     "name": "stderr",
     "output_type": "stream",
     "text": [
      "\u001b[2m\u001b[36m(ray_train_loop pid=5971)\u001b[0m \r",
      " 98%|█████████▊| 294/300 [00:09<00:00, 46.22it/s, Energy=75.306+0.000j ± 0.092 [σ²=8.557, R̂=1.0381]]\r",
      " 98%|█████████▊| 295/300 [00:09<00:00, 15.69it/s, Energy=75.306+0.000j ± 0.092 [σ²=8.557, R̂=1.0381]]\r",
      " 98%|█████████▊| 295/300 [00:09<00:00, 15.69it/s, Energy=74.63-0.00j ± 0.10 [σ²=10.21, R̂=1.0208]]   \r",
      " 99%|█████████▊| 296/300 [00:09<00:00, 15.69it/s, Energy=74.34-0.00j ± 0.10 [σ²=10.79, R̂=1.0093]]\r",
      " 99%|█████████▉| 297/300 [00:09<00:00, 15.69it/s, Energy=74.44-0.00j ± 0.11 [σ²=11.30, R̂=1.0195]]\r",
      " 99%|█████████▉| 298/300 [00:09<00:00, 15.69it/s, Energy=73.99-0.01j ± 0.11 [σ²=12.48, R̂=1.0240]]\r",
      " 99%|█████████▉| 298/300 [00:09<00:00, 30.97it/s, Energy=73.99-0.01j ± 0.11 [σ²=12.48, R̂=1.0240]]\n",
      "2022-05-20 01:35:45,959\tINFO tune.py:701 -- Total run time: 116.20 seconds (116.07 seconds for the tuning loop).\n"
     ]
    }
   ],
   "source": [
    "if not skip_training:\n",
    "    from ray.tune.suggest.hyperopt import HyperOptSearch\n",
    "    \n",
    "    search_space = {\n",
    "        'model': {\n",
    "            'alpha': tune.randint(1, 3+1), # last value exclusive\n",
    "        },\n",
    "        # 'activation': tune.choice(['tanh', 'sigmoid']),\n",
    "        'learning_rate': tune.uniform(0.0, 0.1),\n",
    "        'n_epochs': 300, #tune.qrandint(100, 300, 50),\n",
    "        'n_samples': 1008, #tune.qrandint(100, 1000, 100),\n",
    "    }\n",
    "    \n",
    "    metric = \"energy_error\"\n",
    "    mode = \"min\"\n",
    "\n",
    "    hyperopt_search = HyperOptSearch(metric=metric, mode=mode)\n",
    "    hyper_band_scheduler = tune.schedulers.ASHAScheduler(\n",
    "        metric=metric,\n",
    "        mode=mode,\n",
    "        max_t=search_space['n_epochs'].max_value if isinstance(search_space['n_epochs'], tune.sample.Sampler) else search_space['n_epochs'],\n",
    "        grace_period=20\n",
    "    )\n",
    "\n",
    "    analysis = tune.run(\n",
    "        ray_train_loop,\n",
    "        config=search_space,\n",
    "        progress_reporter=tune.JupyterNotebookReporter(True, [metric]),\n",
    "        scheduler=hyper_band_scheduler,\n",
    "        resources_per_trial={\"cpu\": 6, 'gpu': 1/2},\n",
    "        search_alg=hyperopt_search,\n",
    "        num_samples=10,\n",
    "        resume='AUTO',\n",
    "        # metric=metric,\n",
    "        # mode=mode,\n",
    "    )"
   ]
  },
  {
   "cell_type": "markdown",
   "metadata": {},
   "source": [
    "### Select best model parameters"
   ]
  },
  {
   "cell_type": "code",
   "execution_count": 14,
   "metadata": {},
   "outputs": [
    {
     "data": {
      "text/plain": [
       "'vstate.n_parameters=220'"
      ]
     },
     "metadata": {},
     "output_type": "display_data"
    }
   ],
   "source": [
    "# TODO\n",
    "\n",
    "hyperparams = {\n",
    "    'model': {\n",
    "        'alpha': 1\n",
    "    },\n",
    "    'learning_rate': 0.09,\n",
    "    'n_epochs': 100,\n",
    "    'n_samples': 1008,\n",
    "}\n",
    "\n",
    "H, hi = setup_problem() #Remove the parameter for other models than j1j2. For j1j2 this chooses J2 when J1 = 1.0\n",
    "eig_vals, _ = eigsh(H.to_sparse(), k=2, which=\"SA\")\n",
    "vstate, model, trainer = setup_model(H, hi, hyperparams)\n",
    "display(f'{vstate.n_parameters=}')\n",
    "log = nk.logging.RuntimeLog()"
   ]
  },
  {
   "cell_type": "code",
   "execution_count": 17,
   "metadata": {},
   "outputs": [
    {
     "name": "stderr",
     "output_type": "stream",
     "text": [
      "100%|████████████████████████████████████████████████████████████████████████████████████████| 100/100 [01:04<00:00,  1.56it/s, Energy=-7.5789+0.0108j ± 0.0021 [σ²=0.0044, R̂=1.0089]]\n"
     ]
    },
    {
     "name": "stdout",
     "output_type": "stream",
     "text": [
      "Optimized energy and relative error:  -7.5728+0.0131j ± 0.0050 [σ²=0.0251, R̂=1.0069] 0.5439151196123783\n"
     ]
    }
   ],
   "source": [
    "trainer.run(n_iter=hyperparams['n_epochs'], out=log)\n",
    "\n",
    "ffn_energy = vstate.expect(H)\n",
    "error = abs((ffn_energy.mean-eig_vals[0])/eig_vals[0])\n",
    "print(\"Optimized energy and relative error: \", ffn_energy, error)"
   ]
  },
  {
   "cell_type": "code",
   "execution_count": 7,
   "metadata": {},
   "outputs": [],
   "source": [
    "# TODO load saved model\n",
    "if skip_training:\n",
    "    pass\n"
   ]
  },
  {
   "cell_type": "markdown",
   "metadata": {},
   "source": [
    "## Results"
   ]
  },
  {
   "cell_type": "code",
   "execution_count": 18,
   "metadata": {},
   "outputs": [
    {
     "data": {
      "text/plain": [
       "Text(0, 0.5, 'Energy')"
      ]
     },
     "execution_count": 18,
     "metadata": {},
     "output_type": "execute_result"
    },
    {
     "data": {
      "image/png": "[encoded data removed]",
      "text/plain": [
       "<Figure size 432x288 with 1 Axes>"
      ]
     },
     "metadata": {
      "needs_background": "light"
     },
     "output_type": "display_data"
    }
   ],
   "source": [
    "data = log.data\n",
    "\n",
    "plt.errorbar(data[\"Energy\"].iters, jnp.real(data[\"Energy\"].Mean), yerr=data[\"Energy\"].Sigma, label=\"FFN\")\n",
    "#plt.hlines([E_gs_analytic], xmin=0, xmax=data[\"Energy\"].iters.max(), color='black', label=\"Exact\")\n",
    "plt.hlines([eig_vals], xmin=0, xmax=data[\"Energy\"].iters.max(), color='black', label=\"Exact\")\n",
    "plt.legend()\n",
    "\n",
    "plt.xlabel('Iterations')\n",
    "plt.ylabel('Energy')"
   ]
  },
  {
   "cell_type": "markdown",
   "metadata": {},
   "source": [
    "### Wavefunctions"
   ]
  },
  {
   "cell_type": "code",
   "execution_count": 16,
   "metadata": {},
   "outputs": [
    {
     "data": {
      "text/plain": [
       "[<matplotlib.lines.Line2D at 0x7efbd40ca6a0>]"
      ]
     },
     "execution_count": 16,
     "metadata": {},
     "output_type": "execute_result"
    },
    {
     "data": {
      "image/png": "[encoded data removed]",
      "text/plain": [
       "<Figure size 432x288 with 1 Axes>"
      ]
     },
     "metadata": {
      "needs_background": "light"
     },
     "output_type": "display_data"
    }
   ],
   "source": [
    "ket = vstate.to_array()\n",
    "\n",
    "plt.plot(abs(ket))\n"
   ]
  },
  {
   "cell_type": "code",
   "execution_count": 9,
   "metadata": {},
   "outputs": [
    {
     "data": {
      "text/plain": [
       "QGTOnTheFly(diag_shift=0.0)"
      ]
     },
     "execution_count": 9,
     "metadata": {},
     "output_type": "execute_result"
    }
   ],
   "source": [
    "# get quantum geometric tensor of state\n",
    "# https://github.com/netket/netket/blob/2a7dded3db4705099d4de5450006b46b32ce34ca/netket/optimizer/qgt/qgt_onthefly_logic.py\n",
    "qgt = vstate.quantum_geometric_tensor()\n",
    "qgt"
   ]
  },
  {
   "cell_type": "code",
   "execution_count": 10,
   "metadata": {},
   "outputs": [
    {
     "data": {
      "text/plain": [
       "DeviceArray([[0., 0., 0., ..., 0., 0., 0.],\n",
       "             [0., 0., 0., ..., 0., 0., 0.],\n",
       "             [0., 0., 0., ..., 0., 0., 0.],\n",
       "             ...,\n",
       "             [0., 0., 0., ..., 0., 0., 0.],\n",
       "             [0., 0., 0., ..., 0., 0., 0.],\n",
       "             [0., 0., 0., ..., 0., 0., 0.]], dtype=float64)"
      ]
     },
     "execution_count": 10,
     "metadata": {},
     "output_type": "execute_result"
    }
   ],
   "source": [
    "QGT = qgt.to_dense()\n",
    "jnp.imag(QGT)"
   ]
  },
  {
   "cell_type": "code",
   "execution_count": null,
   "metadata": {},
   "outputs": [],
   "source": []
  },
  {
   "cell_type": "markdown",
   "metadata": {},
   "source": [
    "# The AKLT Model\n",
    "\n",
    "The AKLT model is an extension to the simple 1D Heisenberg spin model, proposed in 1987 by Affleck, I. et al.:\n",
    "\n",
    "https://journals.aps.org/prl/abstract/10.1103/PhysRevLett.59.799\n",
    "\n",
    "The model is essentially a 1D chain of spin-1/2 nuclei which form pairs. A constraint of having two spin-1/2 nuclei for each site is further imposed, which leads to the system being effectively a spin-1 system. This can be understood then to be a chain of these spin-1 \"composite\" nuclei. \n",
    "\n",
    "In the ground state of this Hamiltonian, every dimerized pair is referred to as a site and is given by a \n",
    "\n",
    "The AKLT Hamiltonian is given by a linear combination of the spin-1 projection operators in the respective Hilbert space $$\\mathcal{H} \\subset \\mathbb{C}^3$$."
   ]
  },
  {
   "cell_type": "markdown",
   "metadata": {},
   "source": []
  }
 ],
 "metadata": {
  "interpreter": {
   "hash": "aee8b7b246df8f9039afb4144a1f6fd8d2ca17a180786b69acc140d282b71a49"
  },
  "kernelspec": {
   "display_name": "Python 3 (ipykernel)",
   "language": "python",
   "name": "python3"
  },
  "language_info": {
   "codemirror_mode": {
    "name": "ipython",
    "version": 3
   },
   "file_extension": ".py",
   "mimetype": "text/x-python",
   "name": "python",
   "nbconvert_exporter": "python",
   "pygments_lexer": "ipython3",
   "version": "3.8.10"
  }
 },
 "nbformat": 4,
 "nbformat_minor": 2
}
