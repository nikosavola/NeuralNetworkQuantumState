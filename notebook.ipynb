{
 "cells": [
  {
   "cell_type": "markdown",
   "metadata": {},
   "source": [
    "# Neural Network Quantum State\n",
    "\n"
   ]
  },
  {
   "cell_type": "code",
   "execution_count": 1,
   "metadata": {},
   "outputs": [
    {
     "name": "stderr",
     "output_type": "stream",
     "text": [
      "/tmp/ipykernel_2689859/80669152.py:18: TqdmExperimentalWarning: Using `tqdm.autonotebook.tqdm` in notebook mode. Use `tqdm.tqdm` instead to force console mode (e.g. in jupyter console)\n",
      "  from tqdm.autonotebook import tqdm\n"
     ]
    }
   ],
   "source": [
    "import os\n",
    "import json\n",
    "import time\n",
    "import sys\n",
    "\n",
    "import pandas as pd\n",
    "import matplotlib.pyplot as plt\n",
    "import jax\n",
    "import jax.numpy as jnp\n",
    "import flax\n",
    "import ray\n",
    "# import flax.linen as nn\n",
    "import netket as nk\n",
    "import netket.nn as nn\n",
    "\n",
    "from scipy.sparse.linalg import eigsh\n",
    "from netket.operator.spin import sigmaz, sigmax \n",
    "from ray import tune\n",
    "from tqdm.autonotebook import tqdm\n",
    "from IPython.display import display\n"
   ]
  },
  {
   "cell_type": "code",
   "execution_count": 2,
   "metadata": {},
   "outputs": [],
   "source": [
    "from aklt_model import OurModel, setup_problem, setup_model, ray_train_loop \n",
    "#from j1j2_model import OurModel, setup_problem, setup_model, ray_train_loop "
   ]
  },
  {
   "cell_type": "code",
   "execution_count": 3,
   "metadata": {},
   "outputs": [
    {
     "name": "stdout",
     "output_type": "stream",
     "text": [
      "nk.utils.mpi.available=False\n"
     ]
    },
    {
     "data": {
      "text/plain": [
       "RayContext(dashboard_url='', python_version='3.8.10', ray_version='1.12.0', ray_commit='f18fc31c7562990955556899090f8e8656b48d2d', address_info={'node_ip_address': '130.233.224.199', 'raylet_ip_address': '130.233.224.199', 'redis_address': None, 'object_store_address': '/tmp/ray/session_2022-05-27_17-40-23_093531_2689859/sockets/plasma_store', 'raylet_socket_name': '/tmp/ray/session_2022-05-27_17-40-23_093531_2689859/sockets/raylet', 'webui_url': '', 'session_dir': '/tmp/ray/session_2022-05-27_17-40-23_093531_2689859', 'metrics_export_port': 61351, 'gcs_address': '130.233.224.199:55737', 'address': '130.233.224.199:55737', 'node_id': 'e1e867c56ba0135785f225206c141f60fddf1fc9ae1d7ebc015c4bbf'})"
      ]
     },
     "execution_count": 3,
     "metadata": {},
     "output_type": "execute_result"
    }
   ],
   "source": [
    "os.environ[\"JAX_PLATFORM_NAME\"] = \"cpu\" # or gpu\n",
    "# os.environ[\"RAY_PICKLE_VERBOSE_DEBUG\"] = \"1\" # RAY DEBUG\n",
    "# os.environ[\"XLA_FLAGS\"] = \"--xla_gpu_force_compilation_parallelism=1\"  # force gpu w/o right drivers\n",
    "\n",
    "skip_training = True\n",
    "print(f'{nk.utils.mpi.available=}')\n",
    "\n",
    "# Force detecting GPU in WSL\n",
    "ray.shutdown()\n",
    "ray.init(num_gpus=1)"
   ]
  },
  {
   "cell_type": "code",
   "execution_count": 4,
   "metadata": {},
   "outputs": [],
   "source": [
    "if not skip_training:\n",
    "    from ray.tune.suggest.hyperopt import HyperOptSearch\n",
    "    \n",
    "    search_space = {\n",
    "        'model': {\n",
    "            'alpha': tune.randint(1, 3+1), # last value exclusive\n",
    "        },\n",
    "        # 'activation': tune.choice(['tanh', 'sigmoid']),\n",
    "        'learning_rate': tune.uniform(0.08, 0.12),\n",
    "        'n_epochs': 300, #tune.qrandint(100, 300, 50),\n",
    "        'n_samples': 1008, #tune.qrandint(100, 1000, 100),\n",
    "    }\n",
    "    \n",
    "    metric = \"energy_error\"\n",
    "    mode = \"min\"\n",
    "\n",
    "    hyperopt_search = HyperOptSearch(metric=metric, mode=mode)\n",
    "    hyper_band_scheduler = tune.schedulers.ASHAScheduler(\n",
    "        metric=metric,\n",
    "        mode=mode,\n",
    "        max_t=search_space['n_epochs'].max_value if isinstance(search_space['n_epochs'], tune.sample.Sampler) else search_space['n_epochs'],\n",
    "        grace_period=20\n",
    "    )\n",
    "\n",
    "    analysis = tune.run(\n",
    "        ray_train_loop,\n",
    "        config=search_space,\n",
    "        progress_reporter=tune.JupyterNotebookReporter(True, [metric]),\n",
    "        scheduler=hyper_band_scheduler,\n",
    "        resources_per_trial={\"cpu\": 6, 'gpu': 1/2},\n",
    "        search_alg=hyperopt_search,\n",
    "        num_samples=50,\n",
    "        resume='AUTO',\n",
    "        # metric=metric,\n",
    "        # mode=mode,\n",
    "    )"
   ]
  },
  {
   "cell_type": "markdown",
   "metadata": {},
   "source": [
    "### Select best model parameters"
   ]
  },
  {
   "cell_type": "code",
   "execution_count": 5,
   "metadata": {},
   "outputs": [
    {
     "name": "stderr",
     "output_type": "stream",
     "text": [
      "WARNING:absl:No GPU/TPU found, falling back to CPU. (Set TF_CPP_MIN_LOG_LEVEL=0 and rerun for more info.)\n"
     ]
    },
    {
     "data": {
      "text/plain": [
       "'vstate.n_parameters=960'"
      ]
     },
     "metadata": {},
     "output_type": "display_data"
    }
   ],
   "source": [
    "# TODO\n",
    "hyperparams = {\n",
    "    'model': {\n",
    "        'alpha': 1\n",
    "    },\n",
    "    'learning_rate': 0.10,\n",
    "    'n_epochs': 100,\n",
    "    'n_samples': 1008,\n",
    "}\n",
    "\n",
    "H, hi, g, obs = setup_problem() #Remove the parameter for other models than j1j2. For j1j2 this chooses J2 when J1 = 1.0\n",
    "eig_vals, _ = eigsh(H.to_sparse(), k=4, which=\"SA\")\n",
    "vstate, model, trainer = setup_model(H, hi, hyperparams)\n",
    "display(f'{vstate.n_parameters=}')\n",
    "log = nk.logging.RuntimeLog()  # CONTINUE: investigate the AKLT model and the custom Hamiltonian"
   ]
  },
  {
   "cell_type": "code",
   "execution_count": 6,
   "metadata": {},
   "outputs": [
    {
     "name": "stderr",
     "output_type": "stream",
     "text": [
      "100%|██████████| 100/100 [00:09<00:00, 10.69it/s, Energy=4.375971+0.000000j ± 0.000014 [σ²=0.000000, R̂=1.0121]]\n"
     ]
    },
    {
     "name": "stdout",
     "output_type": "stream",
     "text": [
      "Optimized energy and relative error:  4.375964+0.000000j ± 0.000014 [σ²=0.000000, R̂=1.0084] 4.000660747686997\n",
      "Analytic: -1.45833\n",
      "RBMmV: 4.37597\n",
      "\n"
     ]
    }
   ],
   "source": [
    "#trainer.run(n_iter=hyperparams['n_epochs'], out=log, obs={'Neel': obs[0], 'sf': obs[1]})\n",
    "trainer.run(n_iter=hyperparams['n_epochs'], out=log)\n",
    "\n",
    "ffn_energy = vstate.expect(H)\n",
    "error = abs((ffn_energy.mean-eig_vals[0])/eig_vals[0])\n",
    "print(\"Optimized energy and relative error: \", ffn_energy, error)\n",
    "\n",
    "# Load the data from the results log\n",
    "data = log.data\n",
    "\n",
    "# Print out the result(s)\n",
    "print(\"Analytic: {:.5f}\\nRBMmV: {:.5f}\\n\".format(float(eig_vals[0]), jnp.real(data[\"Energy\"].Mean)[-1] ))"
   ]
  },
  {
   "cell_type": "code",
   "execution_count": 11,
   "metadata": {},
   "outputs": [],
   "source": [
    "# TODO load saved model\n",
    "if skip_training:\n",
    "    pass"
   ]
  },
  {
   "cell_type": "markdown",
   "metadata": {},
   "source": [
    "### Phase Diagram Loop"
   ]
  },
  {
   "cell_type": "code",
   "execution_count": 8,
   "metadata": {},
   "outputs": [
    {
     "data": {
      "text/plain": [
       "'\\nNsim = 1\\nimport numpy as np\\nJ2s = np.linspace(0.5, 0.8, num=Nsim)\\nEsim = np.zeros(Nsim)\\nEacc = np.zeros(Nsim)\\nAFOPs = np.zeros(Nsim)\\nneelOPs = np.zeros(Nsim)\\ndimOPs = np.zeros(Nsim)\\nsigmas = np.zeros(Nsim)\\n\\nhyperparams = {\\n    \\'model\\': {\\n        \\'alpha\\': 2\\n    },\\n    \\'learning_rate\\': 0.11,\\n    \\'n_epochs\\': 300,\\n    \\'n_samples\\': 1008,\\n}\\n\\n\\nfor i in range(len(J2s)):\\n    #H, hi, obs = setup_problem(J2s[i]) \\n    H, hi, obs = setup_problem() \\n    vstate, model, trainer = setup_model(H, hi, hyperparams)\\n    log = nk.logging.RuntimeLog()\\n    eig_vals, _ = eigsh(H.to_sparse(), k=2, which=\"SA\")\\n    Eacc[i] = eig_vals[0]\\n    \\n    print(obs)\\n    trainer.run(n_iter=hyperparams[\\'n_epochs\\'], out=log, obs={\\'Neel\\': obs[0], \\'AF\\': obs[1],\\'dimer\\': obs[2]})\\n    data = log.data\\n    \\n    # Different kinds of observables\\n    Eacc[i] = eig_vals[0]\\n    neelOPs[i] = jnp.mean(jnp.real(data[\\'Neel\\'].Mean)[-50:-1])\\n    AFOPs[i] = jnp.mean(jnp.real(data[\\'AF\\'].Mean)[-50:-1])\\n    Esim[i] = jnp.mean(jnp.real(data[\\'Energy\\'].Mean)[-50:-1])\\n    sigmas[i] = jnp.mean(jnp.real(data[\\'Energy\\'].Sigma)[-50:-1])\\n    dimOPs[i] = jnp.mean(jnp.real(data[\\'dimer\\'].Mean)[-50:-1])\\n    #abs((Esim[i] - Eacc[i]) / Eacc[i])\\n'"
      ]
     },
     "execution_count": 8,
     "metadata": {},
     "output_type": "execute_result"
    }
   ],
   "source": [
    "'''\n",
    "Nsim = 1\n",
    "import numpy as np\n",
    "J2s = np.linspace(0.5, 0.8, num=Nsim)\n",
    "Esim = np.zeros(Nsim)\n",
    "Eacc = np.zeros(Nsim)\n",
    "AFOPs = np.zeros(Nsim)\n",
    "neelOPs = np.zeros(Nsim)\n",
    "dimOPs = np.zeros(Nsim)\n",
    "sigmas = np.zeros(Nsim)\n",
    "\n",
    "hyperparams = {\n",
    "    'model': {\n",
    "        'alpha': 2\n",
    "    },\n",
    "    'learning_rate': 0.11,\n",
    "    'n_epochs': 300,\n",
    "    'n_samples': 1008,\n",
    "}\n",
    "\n",
    "\n",
    "for i in range(len(J2s)):\n",
    "    #H, hi, obs = setup_problem(J2s[i]) \n",
    "    H, hi, obs = setup_problem() \n",
    "    vstate, model, trainer = setup_model(H, hi, hyperparams)\n",
    "    log = nk.logging.RuntimeLog()\n",
    "    eig_vals, _ = eigsh(H.to_sparse(), k=2, which=\"SA\")\n",
    "    Eacc[i] = eig_vals[0]\n",
    "    \n",
    "    print(obs)\n",
    "    trainer.run(n_iter=hyperparams['n_epochs'], out=log, obs={'Neel': obs[0], 'AF': obs[1],'dimer': obs[2]})\n",
    "    data = log.data\n",
    "    \n",
    "    # Different kinds of observables\n",
    "    Eacc[i] = eig_vals[0]\n",
    "    neelOPs[i] = jnp.mean(jnp.real(data['Neel'].Mean)[-50:-1])\n",
    "    AFOPs[i] = jnp.mean(jnp.real(data['AF'].Mean)[-50:-1])\n",
    "    Esim[i] = jnp.mean(jnp.real(data['Energy'].Mean)[-50:-1])\n",
    "    sigmas[i] = jnp.mean(jnp.real(data['Energy'].Sigma)[-50:-1])\n",
    "    dimOPs[i] = jnp.mean(jnp.real(data['dimer'].Mean)[-50:-1])\n",
    "    #abs((Esim[i] - Eacc[i]) / Eacc[i])\n",
    "'''"
   ]
  },
  {
   "cell_type": "code",
   "execution_count": 9,
   "metadata": {},
   "outputs": [
    {
     "data": {
      "text/plain": [
       "'\\n#save the results of above simualtion to file\\nres_concat = np.concatenate((J2s,Esim,Eacc,AFOPs,neelOPs,sigmas,dimOPs)).reshape((-1, 7), order=\\'F\\')\\n#np.save(\"data/J1J2_L20_1layer_withdimer.npy\",res_concat)\\n'"
      ]
     },
     "execution_count": 9,
     "metadata": {},
     "output_type": "execute_result"
    }
   ],
   "source": [
    "'''\n",
    "#save the results of above simualtion to file\n",
    "res_concat = np.concatenate((J2s,Esim,Eacc,AFOPs,neelOPs,sigmas,dimOPs)).reshape((-1, 7), order='F')\n",
    "#np.save(\"data/J1J2_L20_1layer_withdimer.npy\",res_concat)\n",
    "'''"
   ]
  },
  {
   "cell_type": "code",
   "execution_count": 10,
   "metadata": {
    "scrolled": true
   },
   "outputs": [
    {
     "data": {
      "text/plain": [
       "'\\n#plt.plot(J2s, Eacc)\\n#plt.plot(J2s, Esim)\\n#plt.plot(J2s, neels)\\n\\nfig,ax = plt.subplots()\\n# make a plot\\n#ax.plot(J2s, Eacc, color=\"red\")\\nl1 =ax.plot(J2s, Esim, color=\"red\" ,label=\"$E_0$ NNQS\")\\nl2 =ax.scatter(J2s, Eacc, color=\"red\",marker =\"o\" ,s=80, facecolors=\\'none\\',label=\"$E_0$ Exact\")\\nax.set_xlabel(\"$J_2/\\\\,J_1$\",fontsize=14)\\nax.set_ylabel(\"Ground state energy $E_0$\", color=\"red\",fontsize=14)\\nax.legend()\\n\\nax2=ax.twinx()\\n# make a plot with different y-axis using second axis object\\nl4 =ax2.plot(J2s, AFOPs ,color=\"blue\", label=\"AF OP\")\\nl3 = ax2.plot(J2s, neelOPs ,\\'--\\',color=\"blue\",label=\"Neel OP\")\\nax2.set_ylabel(\"Order Parameters\",color=\"blue\",fontsize=14)\\nax2.legend(loc = (0.5,0.1))\\n\\n# save the plot as a file\\n#fig.savefig(\\'Figures/.pdf\\',format=\\'pdf\\',bbox_inches=\\'tight\\')\\n'"
      ]
     },
     "execution_count": 10,
     "metadata": {},
     "output_type": "execute_result"
    }
   ],
   "source": [
    "'''\n",
    "#plt.plot(J2s, Eacc)\n",
    "#plt.plot(J2s, Esim)\n",
    "#plt.plot(J2s, neels)\n",
    "\n",
    "fig,ax = plt.subplots()\n",
    "# make a plot\n",
    "#ax.plot(J2s, Eacc, color=\"red\")\n",
    "l1 =ax.plot(J2s, Esim, color=\"red\" ,label=\"$E_0$ NNQS\")\n",
    "l2 =ax.scatter(J2s, Eacc, color=\"red\",marker =\"o\" ,s=80, facecolors='none',label=\"$E_0$ Exact\")\n",
    "ax.set_xlabel(\"$J_2/\\,J_1$\",fontsize=14)\n",
    "ax.set_ylabel(\"Ground state energy $E_0$\", color=\"red\",fontsize=14)\n",
    "ax.legend()\n",
    "\n",
    "ax2=ax.twinx()\n",
    "# make a plot with different y-axis using second axis object\n",
    "l4 =ax2.plot(J2s, AFOPs ,color=\"blue\", label=\"AF OP\")\n",
    "l3 = ax2.plot(J2s, neelOPs ,'--',color=\"blue\",label=\"Neel OP\")\n",
    "ax2.set_ylabel(\"Order Parameters\",color=\"blue\",fontsize=14)\n",
    "ax2.legend(loc = (0.5,0.1))\n",
    "\n",
    "# save the plot as a file\n",
    "#fig.savefig('Figures/.pdf',format='pdf',bbox_inches='tight')\n",
    "'''"
   ]
  },
  {
   "cell_type": "markdown",
   "metadata": {},
   "source": [
    "## Results"
   ]
  },
  {
   "cell_type": "code",
   "execution_count": 11,
   "metadata": {},
   "outputs": [
    {
     "data": {
      "text/plain": [
       "Text(0, 0.5, 'Energy')"
      ]
     },
     "execution_count": 11,
     "metadata": {},
     "output_type": "execute_result"
    },
    {
     "data": {
      "image/png": "[encoded data removed]",
      "text/plain": [
       "<Figure size 432x288 with 1 Axes>"
      ]
     },
     "metadata": {
      "needs_background": "light"
     },
     "output_type": "display_data"
    }
   ],
   "source": [
    "# Do plotting of the results\n",
    "plt.errorbar(data[\"Energy\"].iters, jnp.real(data[\"Energy\"].Mean), yerr=data[\"Energy\"].Sigma, label=\"FFN\")\n",
    "#plt.hlines([E_gs_analytic], xmin=0, xmax=data[\"Energy\"].iters.max(), color='black', label=\"Exact\")\n",
    "plt.hlines([eig_vals], xmin=0, xmax=data[\"Energy\"].iters.max(), color='black', label=\"Exact\")\n",
    "plt.legend()\n",
    "\n",
    "plt.xlabel('Iterations')\n",
    "plt.ylabel('Energy')"
   ]
  },
  {
   "cell_type": "code",
   "execution_count": 12,
   "metadata": {},
   "outputs": [
    {
     "ename": "KeyError",
     "evalue": "'AF'",
     "output_type": "error",
     "traceback": [
      "\u001b[0;31m---------------------------------------------------------------------------\u001b[0m",
      "\u001b[0;31mKeyError\u001b[0m                                  Traceback (most recent call last)",
      "\u001b[1;32m/u/22/forbomc1/unix/Desktop/projects/NeuralNetworkQuantumState/notebook.ipynb Cell 16'\u001b[0m in \u001b[0;36m<cell line: 1>\u001b[0;34m()\u001b[0m\n\u001b[0;32m----> <a href='vscode-notebook-cell://ssh-remote%2Bbrute.aalto.fi/u/22/forbomc1/unix/Desktop/projects/NeuralNetworkQuantumState/notebook.ipynb#ch0000016vscode-remote?line=0'>1</a>\u001b[0m sf\u001b[39m=\u001b[39mdata[\u001b[39m'\u001b[39;49m\u001b[39mAF\u001b[39;49m\u001b[39m'\u001b[39;49m]\n\u001b[1;32m      <a href='vscode-notebook-cell://ssh-remote%2Bbrute.aalto.fi/u/22/forbomc1/unix/Desktop/projects/NeuralNetworkQuantumState/notebook.ipynb#ch0000016vscode-remote?line=1'>2</a>\u001b[0m neel\u001b[39m=\u001b[39mdata[\u001b[39m'\u001b[39m\u001b[39mNeel\u001b[39m\u001b[39m'\u001b[39m]\n\u001b[1;32m      <a href='vscode-notebook-cell://ssh-remote%2Bbrute.aalto.fi/u/22/forbomc1/unix/Desktop/projects/NeuralNetworkQuantumState/notebook.ipynb#ch0000016vscode-remote?line=3'>4</a>\u001b[0m plt\u001b[39m.\u001b[39mplot(data[\u001b[39m\"\u001b[39m\u001b[39mEnergy\u001b[39m\u001b[39m\"\u001b[39m]\u001b[39m.\u001b[39miters, jnp\u001b[39m.\u001b[39mreal(sf\u001b[39m.\u001b[39mMean),  label\u001b[39m=\u001b[39m \u001b[39m\"\u001b[39m\u001b[39mAntiferromagnetic structure factor\u001b[39m\u001b[39m\"\u001b[39m)\n",
      "\u001b[0;31mKeyError\u001b[0m: 'AF'"
     ]
    }
   ],
   "source": [
    "sf=data['AF']\n",
    "neel=data['Neel']\n",
    "\n",
    "plt.plot(data[\"Energy\"].iters, jnp.real(sf.Mean),  label= \"Antiferromagnetic structure factor\")\n",
    "plt.plot(data[\"Energy\"].iters, jnp.real(neel.Mean),  label= \"Neel order parameter\")\n",
    "#plt.hlines([E_gs_analytic], xmin=0, xmax=data[\"Energy\"].iters.max(), color='black', label=\"Exact\")\n",
    "plt.legend()\n",
    "\n",
    "plt.xlabel('Iterations')\n",
    "plt.ylabel('Energy')\n"
   ]
  },
  {
   "cell_type": "markdown",
   "metadata": {},
   "source": [
    "### Wavefunctions"
   ]
  },
  {
   "cell_type": "code",
   "execution_count": null,
   "metadata": {},
   "outputs": [],
   "source": [
    "ket = vstate.to_array()\n",
    "plt.plot(abs(ket))\n"
   ]
  },
  {
   "cell_type": "code",
   "execution_count": null,
   "metadata": {},
   "outputs": [],
   "source": [
    "# get quantum geometric tensor of state\n",
    "# https://github.com/netket/netket/blob/2a7dded3db4705099d4de5450006b46b32ce34ca/netket/optimizer/qgt/qgt_onthefly_logic.py\n",
    "#qgt = vstate.quantum_geometric_tensor()\n",
    "#qgt"
   ]
  },
  {
   "cell_type": "code",
   "execution_count": null,
   "metadata": {},
   "outputs": [],
   "source": [
    "#QGT = qgt.to_dense()\n",
    "#qmetr = jnp.real(QGT)\n",
    "#berry = jnp.imag(QGT)\n"
   ]
  },
  {
   "cell_type": "code",
   "execution_count": null,
   "metadata": {},
   "outputs": [],
   "source": [
    "#fig, ax = plt.subplots(1, 2)\n",
    "#ax[0].imshow(berry)\n",
    "#ax[1].imshow(qmetr)"
   ]
  },
  {
   "cell_type": "markdown",
   "metadata": {},
   "source": [
    "# The AKLT Model\n",
    "\n",
    "The AKLT model is an extension to the simple 1D Heisenberg spin model, proposed in 1987 by Affleck, I. et al.:\n",
    "\n",
    "https://journals.aps.org/prl/abstract/10.1103/PhysRevLett.59.799\n",
    "\n",
    "The model is essentially a 1D chain of spin-1/2 nuclei which form pairs. A constraint of having two spin-1/2 nuclei for each site is further imposed, which leads to the system being effectively a spin-1 system. This can be understood then to be a chain of these spin-1 \"composite\" nuclei. \n",
    "\n",
    "In the ground state of this Hamiltonian, every dimerized pair is referred to as a site and is given by a \n",
    "\n",
    "The AKLT Hamiltonian is given by a linear combination of the spin-1 projection operators in the respective Hilbert space $$\\mathcal{H} \\subset \\mathbb{C}^3$$."
   ]
  },
  {
   "cell_type": "markdown",
   "metadata": {},
   "source": []
  }
 ],
 "metadata": {
  "interpreter": {
   "hash": "31f2aee4e71d21fbe5cf8b01ff0e069b9275f58929596ceb00d14d90e3e16cd6"
  },
  "kernelspec": {
   "display_name": "Python 3.8.10 64-bit",
   "language": "python",
   "name": "python3"
  },
  "language_info": {
   "codemirror_mode": {
    "name": "ipython",
    "version": 3
   },
   "file_extension": ".py",
   "mimetype": "text/x-python",
   "name": "python",
   "nbconvert_exporter": "python",
   "pygments_lexer": "ipython3",
   "version": "3.8.10"
  }
 },
 "nbformat": 4,
 "nbformat_minor": 2
}
