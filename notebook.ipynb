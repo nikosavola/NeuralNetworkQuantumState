{
 "cells": [
  {
   "cell_type": "markdown",
   "metadata": {},
   "source": [
    "# Neural Network Quantum State\n",
    "\n"
   ]
  },
  {
   "cell_type": "code",
   "execution_count": 4,
   "metadata": {},
   "outputs": [],
   "source": [
    "import os\n",
    "import json\n",
    "import time\n",
    "\n",
    "import numpy as np\n",
    "import pandas as pd\n",
    "import matplotlib.pyplot as plt\n",
    "import netket as nk\n",
    "\n",
    "from tqdm.autonotebook import tqdm"
   ]
  },
  {
   "cell_type": "code",
   "execution_count": 5,
   "metadata": {},
   "outputs": [],
   "source": [
    "os.environ[\"JAX_PLATFORM_NAME\"] = \"cpu\" # or gpu"
   ]
  },
  {
   "cell_type": "code",
   "execution_count": 7,
   "metadata": {},
   "outputs": [],
   "source": [
    "# Define a 1d chain\n",
    "L = 22\n",
    "g = nk.graph.Hypercube(length=L, n_dim=1, pbc=True)"
   ]
  },
  {
   "cell_type": "code",
   "execution_count": 8,
   "metadata": {},
   "outputs": [],
   "source": [
    "# Define the Hilbert space based on this graph\n",
    "# We impose to have a fixed total magnetization of zero \n",
    "hi = nk.hilbert.Spin(s=0.5, total_sz=0, N=g.n_nodes)"
   ]
  },
  {
   "cell_type": "code",
   "execution_count": 9,
   "metadata": {},
   "outputs": [],
   "source": [
    "# calling the Heisenberg Hamiltonian\n",
    "ha = nk.operator.Heisenberg(hilbert=hi, graph=g)"
   ]
  },
  {
   "cell_type": "code",
   "execution_count": 10,
   "metadata": {},
   "outputs": [
    {
     "name": "stdout",
     "output_type": "stream",
     "text": [
      "The exact ground-state energy is E0= -39.147522607062804\n"
     ]
    }
   ],
   "source": [
    "# compute the ground-state energy (here we only need the lowest energy, and do not need the eigenstate)\n",
    "evals = nk.exact.lanczos_ed(ha, compute_eigenvectors=False)\n",
    "exact_gs_energy = evals[0]\n",
    "print('The exact ground-state energy is E0=',exact_gs_energy)"
   ]
  },
  {
   "cell_type": "code",
   "execution_count": 11,
   "metadata": {},
   "outputs": [],
   "source": [
    "import flax.linen as nn\n",
    "import jax.numpy as jnp\n",
    "import jax\n",
    "\n",
    "class Jastrow(nn.Module):\n",
    "    @nn.compact\n",
    "    def __call__(self, x):\n",
    "        # sometimes we call this function with a 1D input, sometimes with a 2D.\n",
    "        # We promote all inputs to 2D to make the following code simpler.\n",
    "        x = jnp.atleast_2d(x)\n",
    "        # We vmap along the 0-th axis of the input\n",
    "        # This will automatically convert a function working on vectors to one working\n",
    "        # on matrices.\n",
    "        return jax.vmap(self.evaluate_single, in_axes=(0))(x)\n",
    "        \n",
    "    def evaluate_single(self, x):\n",
    "        # We create the parameter v, which is a vector of length N_sites \n",
    "        v_bias = self.param(\n",
    "            \"visible_bias\", nn.initializers.normal(), (x.shape[-1],), complex\n",
    "        )\n",
    "    \n",
    "        # The Jastrow matrix is a N_sites x N_sites complex-valued matrix\n",
    "        J = self.param(\n",
    "            \"kernel\", nn.initializers.normal(), (x.shape[-1],x.shape[-1]), complex\n",
    "        )\n",
    "        \n",
    "        return x.T @ J @ x + jnp.dot(x, v_bias)"
   ]
  },
  {
   "cell_type": "code",
   "execution_count": 12,
   "metadata": {},
   "outputs": [
    {
     "name": "stdout",
     "output_type": "stream",
     "text": [
      "Jastrow()\n"
     ]
    }
   ],
   "source": [
    "ma = Jastrow()\n",
    "print(ma)"
   ]
  },
  {
   "cell_type": "code",
   "execution_count": 13,
   "metadata": {},
   "outputs": [
    {
     "name": "stderr",
     "output_type": "stream",
     "text": [
      "WARNING:absl:No GPU/TPU found, falling back to CPU. (Set TF_CPP_MIN_LOG_LEVEL=0 and rerun for more info.)\n",
      "/home/nikosavola/.local/lib/python3.9/site-packages/netket/vqs/mc/mc_state/state.py:59: UserWarning: n_samples=1000 (1000 per MPI rank) does not divide n_chains=16, increased to 1008 (1008 per MPI rank)\n",
      "  warnings.warn(\n",
      "100%|██████████| 300/300 [00:12<00:00, 23.67it/s, Energy=-39.108-0.000j ± 0.017 [σ²=0.297, R̂=1.0068]]"
     ]
    },
    {
     "name": "stdout",
     "output_type": "stream",
     "text": [
      "### Jastrow calculation\n",
      "Has 506 parameters\n",
      "The Jastrow calculation took 15.315428256988525 seconds\n"
     ]
    },
    {
     "name": "stderr",
     "output_type": "stream",
     "text": [
      "\n"
     ]
    }
   ],
   "source": [
    "# Build the sampler\n",
    "sa = nk.sampler.MetropolisExchange(hilbert=hi,graph=g)\n",
    "\n",
    "# Optimizer\n",
    "op = nk.optimizer.Sgd(learning_rate=0.1)\n",
    "\n",
    "# Stochastic Reconfiguration\n",
    "sr = nk.optimizer.SR(diag_shift=0.1)\n",
    "\n",
    "# The variational state\n",
    "vs = nk.vqs.MCState(sa, ma, n_samples=1000)\n",
    "\n",
    "# The ground-state optimization loop\n",
    "gs = nk.VMC(\n",
    "    hamiltonian=ha,\n",
    "    optimizer=op,\n",
    "    preconditioner=sr,\n",
    "    variational_state=vs)\n",
    "\n",
    "start = time.time()\n",
    "gs.run(300, out='Jastrow')\n",
    "end = time.time()\n",
    "\n",
    "print('### Jastrow calculation')\n",
    "print('Has',nk.jax.tree_size(vs.parameters),'parameters')\n",
    "print('The Jastrow calculation took',end-start,'seconds')"
   ]
  },
  {
   "cell_type": "code",
   "execution_count": 15,
   "metadata": {},
   "outputs": [
    {
     "data": {
      "image/png": "[encoded data removed]",
      "text/plain": [
       "<Figure size 432x288 with 1 Axes>"
      ]
     },
     "metadata": {
      "needs_background": "light"
     },
     "output_type": "display_data"
    }
   ],
   "source": [
    "# import the data from log file\n",
    "data_Jastrow=json.load(open(\"Jastrow.log\"))\n",
    "   \n",
    "iters_Jastrow = data_Jastrow[\"Energy\"][\"iters\"]\n",
    "energy_Jastrow = data_Jastrow[\"Energy\"][\"Mean\"][\"real\"]\n",
    "\n",
    "fig, ax1 = plt.subplots()\n",
    "ax1.plot(iters_Jastrow, energy_Jastrow, color='C8', label='Energy (Jastrow)')\n",
    "ax1.set_ylabel('Energy')\n",
    "ax1.set_xlabel('Iteration')\n",
    "plt.axis([0,iters_Jastrow[-1],exact_gs_energy-0.1,exact_gs_energy+0.4])\n",
    "plt.axhline(y=exact_gs_energy, xmin=0,\n",
    "                xmax=iters_Jastrow[-1], linewidth=2, color='k', label='Exact')\n",
    "ax1.legend()\n",
    "plt.show()"
   ]
  },
  {
   "cell_type": "code",
   "execution_count": 19,
   "metadata": {},
   "outputs": [
    {
     "data": {
      "text/plain": [
       "QGTOnTheFly(diag_shift=0.0)"
      ]
     },
     "execution_count": 19,
     "metadata": {},
     "output_type": "execute_result"
    }
   ],
   "source": [
    "# get quantum geometric tensor of state\n",
    "qgt = vs.quantum_geometric_tensor()\n",
    "qgt"
   ]
  },
  {
   "cell_type": "code",
   "execution_count": 20,
   "metadata": {},
   "outputs": [
    {
     "data": {
      "text/plain": [
       "DeviceArray([[ 0.00000000e+00+0.j,  2.48065457e-16+0.j,\n",
       "               5.11743425e-17+0.j, ..., -4.16333634e-17+0.j,\n",
       "               2.00794242e-16+0.j, -2.56305394e-16+0.j],\n",
       "             [ 0.00000000e+00+0.j,  7.13010204e-01+0.j,\n",
       "              -4.78032880e-01+0.j, ...,  4.60600907e-02+0.j,\n",
       "              -2.17545351e-02+0.j,  5.40674603e-02+0.j],\n",
       "             [ 0.00000000e+00+0.j, -4.78032880e-01+0.j,\n",
       "               9.48837868e-01+0.j, ..., -2.25340136e-02+0.j,\n",
       "              -2.85572562e-02+0.j, -2.26521164e-02+0.j],\n",
       "             ...,\n",
       "             [ 0.00000000e+00+0.j,  4.60600907e-02+0.j,\n",
       "              -2.25340136e-02+0.j, ...,  9.99858277e-01+0.j,\n",
       "              -6.57100340e-01+0.j,  2.48181217e-01+0.j],\n",
       "             [ 0.00000000e+00+0.j, -2.17545351e-02+0.j,\n",
       "              -2.85572562e-02+0.j, ..., -6.57100340e-01+0.j,\n",
       "               9.99114229e-01+0.j, -5.31332672e-01+0.j],\n",
       "             [ 0.00000000e+00+0.j,  5.40674603e-02+0.j,\n",
       "              -2.26521164e-02+0.j, ...,  2.48181217e-01+0.j,\n",
       "              -5.31332672e-01+0.j,  9.99807099e-01+0.j]],            dtype=complex128)"
      ]
     },
     "execution_count": 20,
     "metadata": {},
     "output_type": "execute_result"
    }
   ],
   "source": [
    "qgt.to_dense()"
   ]
  },
  {
   "cell_type": "code",
   "execution_count": null,
   "metadata": {},
   "outputs": [],
   "source": []
  }
 ],
 "metadata": {
  "interpreter": {
   "hash": "f9f85f796d01129d0dd105a088854619f454435301f6ffec2fea96ecbd9be4ac"
  },
  "kernelspec": {
   "display_name": "Python 3.9.12 64-bit",
   "language": "python",
   "name": "python3"
  },
  "language_info": {
   "codemirror_mode": {
    "name": "ipython",
    "version": 3
   },
   "file_extension": ".py",
   "mimetype": "text/x-python",
   "name": "python",
   "nbconvert_exporter": "python",
   "pygments_lexer": "ipython3",
   "version": "3.9.12"
  },
  "orig_nbformat": 4
 },
 "nbformat": 4,
 "nbformat_minor": 2
}
