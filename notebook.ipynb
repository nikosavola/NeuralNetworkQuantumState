{
 "cells": [
  {
   "cell_type": "markdown",
   "metadata": {},
   "source": [
    "# Neural Network Quantum State\n",
    "\n"
   ]
  },
  {
   "cell_type": "code",
   "execution_count": 1,
   "metadata": {},
   "outputs": [
    {
     "name": "stderr",
     "output_type": "stream",
     "text": [
      "/tmp/ipykernel_7650/883217173.py:18: TqdmExperimentalWarning: Using `tqdm.autonotebook.tqdm` in notebook mode. Use `tqdm.tqdm` instead to force console mode (e.g. in jupyter console)\n",
      "  from tqdm.autonotebook import tqdm\n"
     ]
    }
   ],
   "source": [
    "import os\n",
    "import json\n",
    "import time\n",
    "\n",
    "import pandas as pd\n",
    "import matplotlib.pyplot as plt\n",
    "import jax\n",
    "import jax.numpy as jnp\n",
    "import flax\n",
    "import ray\n",
    "# import flax.linen as nn\n",
    "import netket as nk\n",
    "import netket.nn as nn\n",
    "\n",
    "from scipy.sparse.linalg import eigsh\n",
    "from netket.operator.spin import sigmaz, sigmax \n",
    "from ray import tune\n",
    "from tqdm.autonotebook import tqdm\n",
    "from IPython.display import display\n",
    "from j1j2_model import OurModel, setup_problem, setup_model, ray_train_loop "
   ]
  },
  {
   "cell_type": "code",
   "execution_count": 2,
   "metadata": {},
   "outputs": [
    {
     "name": "stdout",
     "output_type": "stream",
     "text": [
      "nk.utils.mpi.available=False\n"
     ]
    },
    {
     "data": {
      "text/plain": [
       "RayContext(dashboard_url='', python_version='3.8.10', ray_version='1.12.0', ray_commit='f18fc31c7562990955556899090f8e8656b48d2d', address_info={'node_ip_address': '172.21.95.146', 'raylet_ip_address': '172.21.95.146', 'redis_address': None, 'object_store_address': '/tmp/ray/session_2022-05-25_16-46-15_268236_7650/sockets/plasma_store', 'raylet_socket_name': '/tmp/ray/session_2022-05-25_16-46-15_268236_7650/sockets/raylet', 'webui_url': '', 'session_dir': '/tmp/ray/session_2022-05-25_16-46-15_268236_7650', 'metrics_export_port': 50003, 'gcs_address': '172.21.95.146:52478', 'address': '172.21.95.146:52478', 'node_id': 'fee8dc3991d4c292adbb9e001d528bb78721d218a998b76d4b9e5442'})"
      ]
     },
     "execution_count": 2,
     "metadata": {},
     "output_type": "execute_result"
    }
   ],
   "source": [
    "os.environ[\"JAX_PLATFORM_NAME\"] = \"cpu\" # or gpu\n",
    "# os.environ[\"RAY_PICKLE_VERBOSE_DEBUG\"] = \"1\" # RAY DEBUG\n",
    "# os.environ[\"XLA_FLAGS\"] = \"--xla_gpu_force_compilation_parallelism=1\"  # force gpu w/o right drivers\n",
    "\n",
    "skip_training = True\n",
    "print(f'{nk.utils.mpi.available=}')\n",
    "\n",
    "# Force detecting GPU in WSL\n",
    "ray.shutdown()\n",
    "ray.init(num_gpus=1)"
   ]
  },
  {
   "cell_type": "code",
   "execution_count": 3,
   "metadata": {},
   "outputs": [],
   "source": [
    "if not skip_training:\n",
    "    from ray.tune.suggest.hyperopt import HyperOptSearch\n",
    "    \n",
    "    search_space = {\n",
    "        'model': {\n",
    "            'alpha': tune.randint(1, 3+1), # last value exclusive\n",
    "        },\n",
    "        # 'activation': tune.choice(['tanh', 'sigmoid']),\n",
    "        'learning_rate': tune.uniform(0.08, 0.12),\n",
    "        'n_epochs': 300, #tune.qrandint(100, 300, 50),\n",
    "        'n_samples': 1008, #tune.qrandint(100, 1000, 100),\n",
    "    }\n",
    "    \n",
    "    metric = \"energy_error\"\n",
    "    mode = \"min\"\n",
    "\n",
    "    hyperopt_search = HyperOptSearch(metric=metric, mode=mode)\n",
    "    hyper_band_scheduler = tune.schedulers.ASHAScheduler(\n",
    "        metric=metric,\n",
    "        mode=mode,\n",
    "        max_t=search_space['n_epochs'].max_value if isinstance(search_space['n_epochs'], tune.sample.Sampler) else search_space['n_epochs'],\n",
    "        grace_period=20\n",
    "    )\n",
    "\n",
    "    analysis = tune.run(\n",
    "        ray_train_loop,\n",
    "        config=search_space,\n",
    "        progress_reporter=tune.JupyterNotebookReporter(True, [metric]),\n",
    "        scheduler=hyper_band_scheduler,\n",
    "        resources_per_trial={\"cpu\": 6, 'gpu': 1/2},\n",
    "        search_alg=hyperopt_search,\n",
    "        num_samples=50,\n",
    "        resume='AUTO',\n",
    "        # metric=metric,\n",
    "        # mode=mode,\n",
    "    )"
   ]
  },
  {
   "cell_type": "markdown",
   "metadata": {},
   "source": [
    "### Select best model parameters"
   ]
  },
  {
   "cell_type": "code",
   "execution_count": 4,
   "metadata": {},
   "outputs": [
    {
     "name": "stderr",
     "output_type": "stream",
     "text": [
      "/home/dzupdu/JUPYTER/NeuralNetworkQuantumState/j1j2_model.py:36: FutureWarning: Call to deprecated function 'normal' (`netket.nn.initializers` is deprecated. Use `jax.nn.initializers` instead.)\n",
      "  kernel_init=nn.initializers.normal(stddev=0.01),\n",
      "/home/dzupdu/JUPYTER/NeuralNetworkQuantumState/j1j2_model.py:37: FutureWarning: Call to deprecated function 'normal' (`netket.nn.initializers` is deprecated. Use `jax.nn.initializers` instead.)\n",
      "  bias_init=nn.initializers.normal(stddev=0.01)\n"
     ]
    },
    {
     "data": {
      "text/plain": [
       "'vstate.n_parameters=840'"
      ]
     },
     "metadata": {},
     "output_type": "display_data"
    }
   ],
   "source": [
    "# TODO\n",
    "hyperparams = {\n",
    "    'model': {\n",
    "        'alpha': 2\n",
    "    },\n",
    "    'learning_rate': 0.10,\n",
    "    'n_epochs': 100,\n",
    "    'n_samples': 1008,\n",
    "}\n",
    "\n",
    "H, hi, obs = setup_problem(0.8) #Remove the parameter for other models than j1j2. For j1j2 this chooses J2 when J1 = 1.0\n",
    "eig_vals, _ = eigsh(H.to_sparse(), k=5, which=\"SA\")\n",
    "vstate, model, trainer = setup_model(H, hi, hyperparams)\n",
    "display(f'{vstate.n_parameters=}')\n",
    "log = nk.logging.RuntimeLog()"
   ]
  },
  {
   "cell_type": "code",
   "execution_count": 5,
   "metadata": {},
   "outputs": [
    {
     "name": "stderr",
     "output_type": "stream",
     "text": [
      "  0%|                                                                                                                                                          | 0/100 [00:00<?, ?it/s]/home/dzupdu/JUPYTER/NeuralNetworkQuantumState/j1j2_model.py:36: FutureWarning: Call to deprecated function 'normal' (`netket.nn.initializers` is deprecated. Use `jax.nn.initializers` instead.)\n",
      "  kernel_init=nn.initializers.normal(stddev=0.01),\n",
      "/home/dzupdu/JUPYTER/NeuralNetworkQuantumState/j1j2_model.py:37: FutureWarning: Call to deprecated function 'normal' (`netket.nn.initializers` is deprecated. Use `jax.nn.initializers` instead.)\n",
      "  bias_init=nn.initializers.normal(stddev=0.01)\n",
      "100%|███████████████████████████████████████████████████████████████████████████████████████████| 100/100 [02:39<00:00,  1.60s/it, Energy=-29.747-0.056j ± 0.081 [σ²=6.683, R̂=1.0178]]\n"
     ]
    },
    {
     "name": "stdout",
     "output_type": "stream",
     "text": [
      "Optimized energy and relative error:  -30.35+0.14j ± 0.17 [σ²=29.30, R̂=1.0168] 0.10333515891221338\n"
     ]
    }
   ],
   "source": [
    "\n",
    "#trainer.run(n_iter=hyperparams['n_epochs'], out=log, obs={'Neel': obs[0], 'sf': obs[1]})\n",
    "trainer.run(n_iter=hyperparams['n_epochs'], out=log)\n",
    "\n",
    "ffn_energy = vstate.expect(H)\n",
    "error = abs((ffn_energy.mean-eig_vals[0])/eig_vals[0])\n",
    "print(\"Optimized energy and relative error: \", ffn_energy, error)"
   ]
  },
  {
   "cell_type": "code",
   "execution_count": 9,
   "metadata": {},
   "outputs": [],
   "source": [
    "# TODO load saved model\n",
    "if skip_training:\n",
    "    pass"
   ]
  },
  {
   "cell_type": "code",
   "execution_count": 10,
   "metadata": {},
   "outputs": [
    {
     "data": {
      "text/plain": [
       "-33.84508963604614"
      ]
     },
     "execution_count": 10,
     "metadata": {},
     "output_type": "execute_result"
    }
   ],
   "source": [
    "eig_vals[0]"
   ]
  },
  {
   "cell_type": "markdown",
   "metadata": {},
   "source": [
    "### Phase Diagram Loop"
   ]
  },
  {
   "cell_type": "code",
   "execution_count": 93,
   "metadata": {},
   "outputs": [
    {
     "data": {
      "text/plain": [
       "DeviceArray(-16.60155811, dtype=float64)"
      ]
     },
     "execution_count": 93,
     "metadata": {},
     "output_type": "execute_result"
    }
   ],
   "source": [
    "\n"
   ]
  },
  {
   "cell_type": "code",
   "execution_count": 10,
   "metadata": {},
   "outputs": [
    {
     "name": "stderr",
     "output_type": "stream",
     "text": [
      "  0%|                                                                                                                                                          | 0/500 [00:00<?, ?it/s]/home/dzupdu/JUPYTER/NeuralNetworkQuantumState/j1j2_model.py:39: FutureWarning: Call to deprecated function 'normal' (`netket.nn.initializers` is deprecated. Use `jax.nn.initializers` instead.)\n",
      "  kernel_init=nn.initializers.normal(stddev=0.01),\n",
      "/home/dzupdu/JUPYTER/NeuralNetworkQuantumState/j1j2_model.py:40: FutureWarning: Call to deprecated function 'normal' (`netket.nn.initializers` is deprecated. Use `jax.nn.initializers` instead.)\n",
      "  bias_init=nn.initializers.normal(stddev=0.01)\n",
      "/home/dzupdu/JUPYTER/NeuralNetworkQuantumState/j1j2_model.py:47: FutureWarning: Call to deprecated function 'normal' (`netket.nn.initializers` is deprecated. Use `jax.nn.initializers` instead.)\n",
      "  kernel_init=nn.initializers.normal(stddev=0.01),\n",
      "/home/dzupdu/JUPYTER/NeuralNetworkQuantumState/j1j2_model.py:48: FutureWarning: Call to deprecated function 'normal' (`netket.nn.initializers` is deprecated. Use `jax.nn.initializers` instead.)\n",
      "  bias_init=nn.initializers.normal(stddev=0.01)\n",
      "/home/dzupdu/JUPYTER/NeuralNetworkQuantumState/j1j2_model.py:39: FutureWarning: Call to deprecated function 'normal' (`netket.nn.initializers` is deprecated. Use `jax.nn.initializers` instead.)\n",
      "  kernel_init=nn.initializers.normal(stddev=0.01),\n",
      "/home/dzupdu/JUPYTER/NeuralNetworkQuantumState/j1j2_model.py:40: FutureWarning: Call to deprecated function 'normal' (`netket.nn.initializers` is deprecated. Use `jax.nn.initializers` instead.)\n",
      "  bias_init=nn.initializers.normal(stddev=0.01)\n",
      "/home/dzupdu/JUPYTER/NeuralNetworkQuantumState/j1j2_model.py:47: FutureWarning: Call to deprecated function 'normal' (`netket.nn.initializers` is deprecated. Use `jax.nn.initializers` instead.)\n",
      "  kernel_init=nn.initializers.normal(stddev=0.01),\n",
      "/home/dzupdu/JUPYTER/NeuralNetworkQuantumState/j1j2_model.py:48: FutureWarning: Call to deprecated function 'normal' (`netket.nn.initializers` is deprecated. Use `jax.nn.initializers` instead.)\n",
      "  bias_init=nn.initializers.normal(stddev=0.01)\n",
      "100%|███████████████████████████████████████████████████████████████████████████████████████| 500/500 [16:32<00:00,  1.98s/it, Energy=-32.8004+0.0059j ± 0.0098 [σ²=0.0970, R̂=1.0077]]\n",
      "100%|███████████████████████████████████████████████████████████████████████████████████████| 500/500 [17:09<00:00,  2.06s/it, Energy=-32.5619+0.0111j ± 0.0100 [σ²=0.0998, R̂=1.0084]]\n",
      "100%|███████████████████████████████████████████████████████████████████████████████████████████| 500/500 [16:51<00:00,  2.02s/it, Energy=-32.335-0.001j ± 0.014 [σ²=0.207, R̂=1.0067]]\n",
      "100%|███████████████████████████████████████████████████████████████████████████████████████████| 500/500 [16:24<00:00,  1.97s/it, Energy=-32.110-0.019j ± 0.016 [σ²=0.270, R̂=1.0094]]\n",
      "100%|███████████████████████████████████████████████████████████████████████████████████████████| 500/500 [16:24<00:00,  1.97s/it, Energy=-31.906-0.006j ± 0.015 [σ²=0.223, R̂=1.0106]]\n",
      "100%|████████████████████████████████████████████████████████████████████████████████████████████████| 500/500 [16:18<00:00,  1.96s/it, Energy=0.54+0.00j ± 0.15 [σ²=21.51, R̂=1.4086]]\n",
      "100%|███████████████████████████████████████████████████████████████████████████████████████████| 500/500 [16:37<00:00,  2.00s/it, Energy=-31.451+0.000j ± 0.014 [σ²=0.187, R̂=1.0095]]\n",
      "100%|███████████████████████████████████████████████████████████████████████████████████████████| 500/500 [16:37<00:00,  1.99s/it, Energy=-31.253-0.001j ± 0.021 [σ²=0.427, R̂=1.0042]]\n",
      "100%|███████████████████████████████████████████████████████████████████████████████████████████| 500/500 [16:42<00:00,  2.00s/it, Energy=-31.018+0.002j ± 0.024 [σ²=0.576, R̂=1.0125]]\n",
      "100%|████████████████████████████████████████████████████████████████████████████████████████████| 500/500 [16:07<00:00,  1.93s/it, Energy=-4.686+0.002j ± 0.070 [σ²=4.963, R̂=1.3685]]\n",
      "100%|███████████████████████████████████████████████████████████████████████████████████████| 500/500 [16:18<00:00,  1.96s/it, Energy=-21.8886+0.0038j ± 0.0069 [σ²=0.0481, R̂=1.0156]]\n",
      "100%|███████████████████████████████████████████████████████████████████████████████████████████| 500/500 [16:31<00:00,  1.98s/it, Energy=-30.473-0.014j ± 0.024 [σ²=0.582, R̂=1.0176]]\n",
      "100%|███████████████████████████████████████████████████████████████████████████████████████████| 500/500 [17:27<00:00,  2.09s/it, Energy=-30.257-0.010j ± 0.019 [σ²=0.359, R̂=1.0175]]\n",
      "100%|███████████████████████████████████████████████████████████████████████████████████████████| 500/500 [17:18<00:00,  2.08s/it, Energy=-30.190-0.001j ± 0.012 [σ²=0.136, R̂=1.0072]]\n",
      "100%|███████████████████████████████████████████████████████████████████████████████████████| 500/500 [16:32<00:00,  1.99s/it, Energy=-30.0976-0.0017j ± 0.0082 [σ²=0.0686, R̂=1.0170]]\n",
      "100%|███████████████████████████████████████████████████████████████████████████████████████| 500/500 [16:08<00:00,  1.94s/it, Energy=-30.0399-0.0007j ± 0.0052 [σ²=0.0273, R̂=1.0315]]\n",
      "100%|███████████████████████████████████████████████████████████████████████████████████| 500/500 [16:59<00:00,  2.04s/it, Energy=-30.00967-0.00070j ± 0.00073 [σ²=0.00053, R̂=1.0151]]\n",
      "100%|███████████████████████████████████████████████████████████████████████████████████| 500/500 [16:28<00:00,  1.98s/it, Energy=-30.00037+0.00039j ± 0.00067 [σ²=0.00045, R̂=1.0104]]\n",
      "100%|███████████████████████████████████████████████████████████████████████████████████| 500/500 [16:01<00:00,  1.92s/it, Energy=-30.00159-0.00029j ± 0.00073 [σ²=0.00053, R̂=1.0116]]\n",
      "100%|███████████████████████████████████████████████████████████████████████████████████| 500/500 [16:38<00:00,  2.00s/it, Energy=-30.00918-0.00040j ± 0.00098 [σ²=0.00097, R̂=1.0123]]\n",
      "100%|███████████████████████████████████████████████████████████████████████████████████████| 500/500 [16:51<00:00,  2.02s/it, Energy=-30.0131-0.0022j ± 0.0012 [σ²=0.0014, R̂=1.0125]]\n",
      "100%|████████████████████████████████████████████████████████████████████████████████████████████████████████████████| 500/500 [16:33<00:00,  1.99s/it, Energy=nan+nanj ± nan [σ²=nan]]\n",
      "100%|███████████████████████████████████████████████████████████████████████████████████████████████| 500/500 [16:32<00:00,  1.99s/it, Energy=-3.87+0.00j ± 0.13 [σ²=16.57, R̂=1.4086]]\n",
      "100%|████████████████████████████████████████████████████████████████████████████████████████████| 500/500 [15:43<00:00,  1.89s/it, Energy=-9.159+0.000j ± 0.035 [σ²=1.215, R̂=1.4086]]\n",
      "100%|███████████████████████████████████████████████████████████████████████████████████████████| 500/500 [16:45<00:00,  2.01s/it, Energy=-13.466-0.022j ± 0.028 [σ²=0.813, R̂=1.0355]]\n",
      "100%|████████████████████████████████████████████████████████████████████████████████████████████████████████████████| 500/500 [16:10<00:00,  1.94s/it, Energy=nan+nanj ± nan [σ²=nan]]\n",
      "100%|████████████████████████████████████████████████████████████████████████████████████████████████████████████████| 500/500 [14:51<00:00,  1.78s/it, Energy=nan+nanj ± nan [σ²=nan]]\n",
      "100%|████████████████████████████████████████████████████████████████████████| 500/500 [15:40<00:00,  1.88s/it, Energy=-6.70589232-0.00000146j ± 0.00000035 [σ²=0.00000000, R̂=1.4086]]\n",
      "100%|████████████████████████████████████████████████████████████████████████████████████████████| 500/500 [15:24<00:00,  1.85s/it, Energy=-7.535-0.000j ± 0.078 [σ²=6.106, R̂=1.4086]]\n",
      "100%|████████████████████████████████████████████████████████████████████████████████████████████| 500/500 [15:43<00:00,  1.89s/it, Energy=-3.125+0.000j ± 0.096 [σ²=9.289, R̂=1.3988]]\n",
      "100%|████████████████████████████████████████████████████████████████████████████████| 500/500 [15:36<00:00,  1.87s/it, Energy=-8.196957-0.001491j ± 0.000044 [σ²=0.000002, R̂=1.4086]]\n",
      "100%|████████████████████████████████████████████████████████████████████████████████████████████████████████████████| 500/500 [15:33<00:00,  1.87s/it, Energy=nan+nanj ± nan [σ²=nan]]\n"
     ]
    },
    {
     "name": "stderr",
     "output_type": "stream",
     "text": [
      "100%|███████████████████████████████████████████████████████████████████████████████████████████████| 500/500 [16:43<00:00,  2.01s/it, Energy=-2.57-0.12j ± 0.13 [σ²=16.95, R̂=1.2665]]\n",
      "100%|███████████████████████████████████████████████████████████████████████████████████████████| 500/500 [15:54<00:00,  1.91s/it, Energy=-9.043-0.000j ± 0.100 [σ²=10.025, R̂=1.4086]]\n",
      "100%|████████████████████████████████████████████████████████████████████████████████████████████████████████████████| 500/500 [15:20<00:00,  1.84s/it, Energy=nan+nanj ± nan [σ²=nan]]\n"
     ]
    },
    {
     "ename": "NameError",
     "evalue": "name 'res_concat' is not defined",
     "output_type": "error",
     "traceback": [
      "\u001b[0;31m---------------------------------------------------------------------------\u001b[0m",
      "\u001b[0;31mNameError\u001b[0m                                 Traceback (most recent call last)",
      "Input \u001b[0;32mIn [10]\u001b[0m, in \u001b[0;36m<cell line: 37>\u001b[0;34m()\u001b[0m\n\u001b[1;32m     34\u001b[0m     sigmas[i] \u001b[38;5;241m=\u001b[39m jnp\u001b[38;5;241m.\u001b[39mmean(jnp\u001b[38;5;241m.\u001b[39mreal(data[\u001b[38;5;124m'\u001b[39m\u001b[38;5;124mEnergy\u001b[39m\u001b[38;5;124m'\u001b[39m]\u001b[38;5;241m.\u001b[39mSigma)[\u001b[38;5;241m-\u001b[39m\u001b[38;5;241m50\u001b[39m:\u001b[38;5;241m-\u001b[39m\u001b[38;5;241m1\u001b[39m])\n\u001b[1;32m     35\u001b[0m     \u001b[38;5;66;03m#abs((Esim[i] - Eacc[i]) / Eacc[i])\u001b[39;00m\n\u001b[0;32m---> 37\u001b[0m np\u001b[38;5;241m.\u001b[39msave(\u001b[38;5;124m\"\u001b[39m\u001b[38;5;124mdata/J1J2_L20_2layers.npy\u001b[39m\u001b[38;5;124m\"\u001b[39m,\u001b[43mres_concat\u001b[49m)\n",
      "\u001b[0;31mNameError\u001b[0m: name 'res_concat' is not defined"
     ]
    }
   ],
   "source": [
    "Nsim = 35\n",
    "import numpy as np\n",
    "J2s = np.linspace(0.2, 0.8, num=Nsim)\n",
    "Esim = np.zeros(Nsim)\n",
    "Eacc = np.zeros(Nsim)\n",
    "AFOPs = np.zeros(Nsim)\n",
    "neelOPs = np.zeros(Nsim)\n",
    "dimOPs = np.zeros(Nsim)\n",
    "sigmas = np.zeros(Nsim)\n",
    "\n",
    "hyperparams = {\n",
    "    'model': {\n",
    "        'alpha': 2\n",
    "    },\n",
    "    'learning_rate': 0.11,\n",
    "    'n_epochs': 300,\n",
    "    'n_samples': 1008,\n",
    "}\n",
    "\n",
    "\n",
    "for i in range(len(J2s)):\n",
    "    H, hi, obs = setup_problem(J2s[i]) \n",
    "    vstate, model, trainer = setup_model(H, hi, hyperparams)\n",
    "    log = nk.logging.RuntimeLog()\n",
    "    eig_vals, _ = eigsh(H.to_sparse(), k=2, which=\"SA\")\n",
    "    Eacc[i] = eig_vals[0]\n",
    "    \n",
    "    trainer.run(n_iter=hyperparams['n_epochs'], out=log, obs={'Neel': obs[0], 'AF': obs[1],'dimer': obs[2]})\n",
    "    data = log.data\n",
    "    \n",
    "    Eacc[i] = eig_vals[0]\n",
    "    neelOPs[i] = jnp.mean(jnp.real(data['Neel'].Mean)[-50:-1])\n",
    "    AFOPs[i] = jnp.mean(jnp.real(data['AF'].Mean)[-50:-1])\n",
    "    Esim[i] = jnp.mean(jnp.real(data['Energy'].Mean)[-50:-1])\n",
    "    sigmas[i] = jnp.mean(jnp.real(data['Energy'].Sigma)[-50:-1])\n",
    "    dimOPs[i] = jnp.mean(jnp.real(data['dimer'].Mean)[-50:-1])\n",
    "    #abs((Esim[i] - Eacc[i]) / Eacc[i])\n"
   ]
  },
  {
   "cell_type": "code",
   "execution_count": 11,
   "metadata": {},
   "outputs": [],
   "source": [
    "#save the results of above simualtion to file\n",
    "res_concat = np.concatenate((J2s,Esim,Eacc,AFOPs,neelOPs,sigmas,dimOPs)).reshape((-1, 7), order='F')\n",
    "#np.save(\"data/J1J2_L20_1layer_withdimer.npy\",res_concat)"
   ]
  },
  {
   "cell_type": "code",
   "execution_count": 12,
   "metadata": {
    "scrolled": true
   },
   "outputs": [
    {
     "data": {
      "text/plain": [
       "<matplotlib.legend.Legend at 0x7f0d8fbd9520>"
      ]
     },
     "execution_count": 12,
     "metadata": {},
     "output_type": "execute_result"
    },
    {
     "data": {
      "image/png": "[encoded data removed]",
      "text/plain": [
       "<Figure size 432x288 with 2 Axes>"
      ]
     },
     "metadata": {
      "needs_background": "light"
     },
     "output_type": "display_data"
    }
   ],
   "source": [
    "#plt.plot(J2s, Eacc)\n",
    "#plt.plot(J2s, Esim)\n",
    "#plt.plot(J2s, neels)\n",
    "\n",
    "fig,ax = plt.subplots()\n",
    "# make a plot\n",
    "#ax.plot(J2s, Eacc, color=\"red\")\n",
    "l1 =ax.plot(J2s, Esim, color=\"red\" ,label=\"$E_0$ NNQS\")\n",
    "l2 =ax.scatter(J2s, Eacc, color=\"red\",marker =\"o\" ,s=80, facecolors='none',label=\"$E_0$ Exact\")\n",
    "ax.set_xlabel(\"$J_2/\\,J_1$\",fontsize=14)\n",
    "ax.set_ylabel(\"Ground state energy $E_0$\", color=\"red\",fontsize=14)\n",
    "ax.legend()\n",
    "\n",
    "ax2=ax.twinx()\n",
    "# make a plot with different y-axis using second axis object\n",
    "l4 =ax2.plot(J2s, sfs ,color=\"blue\", label=\"AF OP\")\n",
    "l3 = ax2.plot(J2s, neels ,'--',color=\"blue\",label=\"Neel OP\")\n",
    "ax2.set_ylabel(\"Order Parameters\",color=\"blue\",fontsize=14)\n",
    "ax2.legend(loc = (0.5,0.1))\n",
    "\n",
    "# save the plot as a file\n",
    "#fig.savefig('Figures/.pdf',format='pdf',bbox_inches='tight')"
   ]
  },
  {
   "cell_type": "markdown",
   "metadata": {},
   "source": [
    "## Results"
   ]
  },
  {
   "cell_type": "code",
   "execution_count": 6,
   "metadata": {},
   "outputs": [
    {
     "data": {
      "text/plain": [
       "Text(0, 0.5, 'Energy')"
      ]
     },
     "execution_count": 6,
     "metadata": {},
     "output_type": "execute_result"
    },
    {
     "data": {
      "image/png": "[encoded data removed]",
      "text/plain": [
       "<Figure size 432x288 with 1 Axes>"
      ]
     },
     "metadata": {
      "needs_background": "light"
     },
     "output_type": "display_data"
    }
   ],
   "source": [
    "\n",
    "data = log.data\n",
    "\n",
    "plt.errorbar(data[\"Energy\"].iters, jnp.real(data[\"Energy\"].Mean), yerr=data[\"Energy\"].Sigma, label=\"FFN\")\n",
    "#plt.hlines([E_gs_analytic], xmin=0, xmax=data[\"Energy\"].iters.max(), color='black', label=\"Exact\")\n",
    "plt.hlines([eig_vals], xmin=0, xmax=data[\"Energy\"].iters.max(), color='black', label=\"Exact\")\n",
    "plt.legend()\n",
    "\n",
    "plt.xlabel('Iterations')\n",
    "plt.ylabel('Energy')"
   ]
  },
  {
   "cell_type": "code",
   "execution_count": 73,
   "metadata": {},
   "outputs": [
    {
     "data": {
      "text/plain": [
       "Text(0, 0.5, 'Energy')"
      ]
     },
     "execution_count": 73,
     "metadata": {},
     "output_type": "execute_result"
    },
    {
     "data": {
      "image/png": "[encoded data removed]",
      "text/plain": [
       "<Figure size 432x288 with 1 Axes>"
      ]
     },
     "metadata": {
      "needs_background": "light"
     },
     "output_type": "display_data"
    }
   ],
   "source": [
    "sf=data['sf']\n",
    "neel=data['Neel']\n",
    "\n",
    "plt.plot(data[\"Energy\"].iters, jnp.real(sf.Mean),  label= \"Antiferromagnetic structure factor\")\n",
    "plt.plot(data[\"Energy\"].iters, jnp.real(neel.Mean),  label= \"Neel order parameter\")\n",
    "#plt.hlines([E_gs_analytic], xmin=0, xmax=data[\"Energy\"].iters.max(), color='black', label=\"Exact\")\n",
    "plt.legend()\n",
    "\n",
    "plt.xlabel('Iterations')\n",
    "plt.ylabel('Energy')\n"
   ]
  },
  {
   "cell_type": "markdown",
   "metadata": {},
   "source": [
    "### Wavefunctions"
   ]
  },
  {
   "cell_type": "code",
   "execution_count": 8,
   "metadata": {},
   "outputs": [
    {
     "data": {
      "text/plain": [
       "[<matplotlib.lines.Line2D at 0x7f7f38434eb0>]"
      ]
     },
     "execution_count": 8,
     "metadata": {},
     "output_type": "execute_result"
    },
    {
     "data": {
      "image/png": "[encoded data removed]",
      "text/plain": [
       "<Figure size 432x288 with 1 Axes>"
      ]
     },
     "metadata": {
      "needs_background": "light"
     },
     "output_type": "display_data"
    }
   ],
   "source": [
    "ket = vstate.to_array()\n",
    "\n",
    "plt.plot(abs(ket))\n"
   ]
  },
  {
   "cell_type": "code",
   "execution_count": 9,
   "metadata": {},
   "outputs": [
    {
     "data": {
      "text/plain": [
       "QGTOnTheFly(diag_shift=0.0)"
      ]
     },
     "execution_count": 9,
     "metadata": {},
     "output_type": "execute_result"
    }
   ],
   "source": [
    "# get quantum geometric tensor of state\n",
    "# https://github.com/netket/netket/blob/2a7dded3db4705099d4de5450006b46b32ce34ca/netket/optimizer/qgt/qgt_onthefly_logic.py\n",
    "qgt = vstate.quantum_geometric_tensor()\n",
    "qgt"
   ]
  },
  {
   "cell_type": "code",
   "execution_count": 10,
   "metadata": {},
   "outputs": [
    {
     "data": {
      "text/plain": [
       "DeviceArray([[0., 0., 0., ..., 0., 0., 0.],\n",
       "             [0., 0., 0., ..., 0., 0., 0.],\n",
       "             [0., 0., 0., ..., 0., 0., 0.],\n",
       "             ...,\n",
       "             [0., 0., 0., ..., 0., 0., 0.],\n",
       "             [0., 0., 0., ..., 0., 0., 0.],\n",
       "             [0., 0., 0., ..., 0., 0., 0.]], dtype=float64)"
      ]
     },
     "execution_count": 10,
     "metadata": {},
     "output_type": "execute_result"
    }
   ],
   "source": [
    "QGT = qgt.to_dense()\n",
    "jnp.imag(QGT)"
   ]
  },
  {
   "cell_type": "code",
   "execution_count": null,
   "metadata": {},
   "outputs": [],
   "source": []
  },
  {
   "cell_type": "markdown",
   "metadata": {},
   "source": [
    "# The AKLT Model\n",
    "\n",
    "The AKLT model is an extension to the simple 1D Heisenberg spin model, proposed in 1987 by Affleck, I. et al.:\n",
    "\n",
    "https://journals.aps.org/prl/abstract/10.1103/PhysRevLett.59.799\n",
    "\n",
    "The model is essentially a 1D chain of spin-1/2 nuclei which form pairs. A constraint of having two spin-1/2 nuclei for each site is further imposed, which leads to the system being effectively a spin-1 system. This can be understood then to be a chain of these spin-1 \"composite\" nuclei. \n",
    "\n",
    "In the ground state of this Hamiltonian, every dimerized pair is referred to as a site and is given by a \n",
    "\n",
    "The AKLT Hamiltonian is given by a linear combination of the spin-1 projection operators in the respective Hilbert space $$\\mathcal{H} \\subset \\mathbb{C}^3$$."
   ]
  },
  {
   "cell_type": "markdown",
   "metadata": {},
   "source": []
  }
 ],
 "metadata": {
  "interpreter": {
   "hash": "aee8b7b246df8f9039afb4144a1f6fd8d2ca17a180786b69acc140d282b71a49"
  },
  "kernelspec": {
   "display_name": "Python 3 (ipykernel)",
   "language": "python",
   "name": "python3"
  },
  "language_info": {
   "codemirror_mode": {
    "name": "ipython",
    "version": 3
   },
   "file_extension": ".py",
   "mimetype": "text/x-python",
   "name": "python",
   "nbconvert_exporter": "python",
   "pygments_lexer": "ipython3",
   "version": "3.8.10"
  }
 },
 "nbformat": 4,
 "nbformat_minor": 2
}
