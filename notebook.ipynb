{
 "cells": [
  {
   "cell_type": "markdown",
   "metadata": {},
   "source": [
    "# Neural Network Quantum State\n",
    "\n"
   ]
  },
  {
   "cell_type": "code",
   "execution_count": 8,
   "metadata": {},
   "outputs": [],
   "source": [
    "import os\n",
    "import json\n",
    "from functools import partial\n",
    "\n",
    "import matplotlib.pyplot as plt\n",
    "import jax.numpy as jnp\n",
    "import numpy as np\n",
    "import ray\n",
    "import netket as nk\n",
    "import netket.nn as nn\n",
    "import netket.experimental\n",
    "\n",
    "from ray import tune\n",
    "from ray.tune.suggest.hyperopt import HyperOptSearch\n",
    "from IPython.display import display\n",
    "\n",
    "from model import FFN, setup_j1j2_problem, setup_model, ray_train_loop, get_ground_state"
   ]
  },
  {
   "cell_type": "code",
   "execution_count": 9,
   "metadata": {},
   "outputs": [
    {
     "name": "stdout",
     "output_type": "stream",
     "text": [
      "nk.utils.mpi.available=True\n"
     ]
    },
    {
     "data": {
      "text/plain": [
       "RayContext(dashboard_url='', python_version='3.9.12', ray_version='1.12.0', ray_commit='f18fc31c7562990955556899090f8e8656b48d2d', address_info={'node_ip_address': '172.29.207.112', 'raylet_ip_address': '172.29.207.112', 'redis_address': None, 'object_store_address': '/tmp/ray/session_2022-05-25_20-08-33_111955_11034/sockets/plasma_store', 'raylet_socket_name': '/tmp/ray/session_2022-05-25_20-08-33_111955_11034/sockets/raylet', 'webui_url': '', 'session_dir': '/tmp/ray/session_2022-05-25_20-08-33_111955_11034', 'metrics_export_port': 58903, 'gcs_address': '172.29.207.112:57139', 'address': '172.29.207.112:57139', 'node_id': 'ae0163aeb0e1bbb405370a2605e697de15ada54df1b1e60349cebb17'})"
      ]
     },
     "execution_count": 9,
     "metadata": {},
     "output_type": "execute_result"
    }
   ],
   "source": [
    "os.environ[\"JAX_PLATFORM_NAME\"] = \"gpu\" # or gpu\n",
    "# os.environ[\"RAY_PICKLE_VERBOSE_DEBUG\"] = \"1\" # RAY DEBUG\n",
    "# os.environ[\"XLA_FLAGS\"] = \"--xla_gpu_force_compilation_parallelism=1\"  # force gpu w/o right drivers\n",
    "\n",
    "skip_training = False\n",
    "print(f'{nk.utils.mpi.available=}')\n",
    "\n",
    "# Force detecting GPU in WSL\n",
    "ray.shutdown()\n",
    "ray.init(num_gpus=1)"
   ]
  },
  {
   "cell_type": "markdown",
   "metadata": {},
   "source": [
    "### Hyperparameter tuning\n",
    "Use this to select the best `hyperparameters`."
   ]
  },
  {
   "cell_type": "code",
   "execution_count": 3,
   "metadata": {},
   "outputs": [
    {
     "data": {
      "text/html": [
       "== Status ==<br>Current time: 2022-05-25 19:55:18 (running for 00:01:45.39)<br>Memory usage on this node: 5.5/15.5 GiB<br>Using AsyncHyperBand: num_stopped=3\n",
       "Bracket: Iter 80.000: -1.8665186682295791 | Iter 20.000: -3.5502480795950806<br>Resources requested: 12.0/16 CPUs, 1.0/1 GPUs, 0.0/7.57 GiB heap, 0.0/3.79 GiB objects<br>Result logdir: /home/nikosavola/ray_results/ray_train_loop_2022-05-25_19-53-32<br>Number of trials: 6/50 (1 PENDING, 2 RUNNING, 3 TERMINATED)<br><table>\n",
       "<thead>\n",
       "<tr><th>Trial name             </th><th>status    </th><th>loc                 </th><th style=\"text-align: right;\">  learning_rate</th><th style=\"text-align: right;\">  model/alpha</th><th style=\"text-align: right;\">  n_epochs</th><th style=\"text-align: right;\">  n_samples</th><th style=\"text-align: right;\">  energy_error</th></tr>\n",
       "</thead>\n",
       "<tbody>\n",
       "<tr><td>ray_train_loop_4df408cc</td><td>RUNNING   </td><td>172.29.207.112:13243</td><td style=\"text-align: right;\">      0.108655 </td><td style=\"text-align: right;\">            3</td><td style=\"text-align: right;\">       300</td><td style=\"text-align: right;\">       1008</td><td style=\"text-align: right;\">              </td></tr>\n",
       "<tr><td>ray_train_loop_6cf3af5c</td><td>RUNNING   </td><td>172.29.207.112:13287</td><td style=\"text-align: right;\">      0.114438 </td><td style=\"text-align: right;\">            3</td><td style=\"text-align: right;\">       300</td><td style=\"text-align: right;\">       1008</td><td style=\"text-align: right;\">              </td></tr>\n",
       "<tr><td>ray_train_loop_6ebd0cb6</td><td>PENDING   </td><td>                    </td><td style=\"text-align: right;\">      0.100219 </td><td style=\"text-align: right;\">            3</td><td style=\"text-align: right;\">       300</td><td style=\"text-align: right;\">       1008</td><td style=\"text-align: right;\">              </td></tr>\n",
       "<tr><td>ray_train_loop_35e4e2b0</td><td>TERMINATED</td><td>172.29.207.112:11817</td><td style=\"text-align: right;\">      0.0820474</td><td style=\"text-align: right;\">            3</td><td style=\"text-align: right;\">       300</td><td style=\"text-align: right;\">       1008</td><td style=\"text-align: right;\">      2.47154 </td></tr>\n",
       "<tr><td>ray_train_loop_37559518</td><td>TERMINATED</td><td>172.29.207.112:11853</td><td style=\"text-align: right;\">      0.114621 </td><td style=\"text-align: right;\">            3</td><td style=\"text-align: right;\">       300</td><td style=\"text-align: right;\">       1008</td><td style=\"text-align: right;\">      2.83322 </td></tr>\n",
       "<tr><td>ray_train_loop_37576f46</td><td>TERMINATED</td><td>172.29.207.112:12472</td><td style=\"text-align: right;\">      0.0917719</td><td style=\"text-align: right;\">            1</td><td style=\"text-align: right;\">       300</td><td style=\"text-align: right;\">       1008</td><td style=\"text-align: right;\">      0.810342</td></tr>\n",
       "</tbody>\n",
       "</table><br><br>"
      ],
      "text/plain": [
       "<IPython.core.display.HTML object>"
      ]
     },
     "metadata": {},
     "output_type": "display_data"
    },
    {
     "name": "stderr",
     "output_type": "stream",
     "text": [
      "  0%|          | 0/300 [00:00<?, ?it/s] \n",
      "  0%|          | 0/300 [00:03<?, ?it/s, Energy=-6.11+0.00j ± 0.28 [σ²=81.55, R̂=1.0113]]\n",
      "  0%|          | 0/300 [00:03<?, ?it/s, Energy=-6.21-0.00j ± 0.28 [σ²=81.45, R̂=1.0083]]\n",
      "2022-05-25 19:55:22,641\tERROR tune.py:697 -- Trials did not complete: [ray_train_loop_4df408cc, ray_train_loop_6cf3af5c, ray_train_loop_6ebd0cb6]\n",
      "2022-05-25 19:55:22,641\tINFO tune.py:701 -- Total run time: 110.00 seconds (105.39 seconds for the tuning loop).\n",
      "2022-05-25 19:55:22,642\tWARNING tune.py:707 -- Experiment has been interrupted, but the most recent state was saved. You can continue running this experiment by passing `resume=True` to `tune.run()`\n"
     ]
    }
   ],
   "source": [
    "if not skip_training:\n",
    "    \n",
    "    search_space = {\n",
    "        'model': {\n",
    "            'alpha': tune.randint(1, 3+1), # last value exclusive\n",
    "        },\n",
    "        # 'activation': tune.choice(['tanh', 'sigmoid']),\n",
    "        'learning_rate': tune.uniform(0.08, 0.12),\n",
    "        'n_epochs': 300, #tune.qrandint(100, 300, 50),\n",
    "        'n_samples': 1008, #tune.qrandint(100, 1000, 100),\n",
    "    }\n",
    "    \n",
    "    metric = \"energy_error\"\n",
    "    mode = \"min\"\n",
    "\n",
    "    hyperopt_search = HyperOptSearch(metric=metric, mode=mode)\n",
    "    hyper_band_scheduler = tune.schedulers.ASHAScheduler(\n",
    "        metric=metric,\n",
    "        mode=mode,\n",
    "        max_t=search_space['n_epochs'].max_value if isinstance(search_space['n_epochs'], tune.sample.Sampler) else search_space['n_epochs'],\n",
    "        grace_period=20\n",
    "    )\n",
    "\n",
    "    analysis = tune.run(\n",
    "        tune.with_parameters(ray_train_loop, setup_problem=setup_j1j2_problem, model=FFN),\n",
    "        config=search_space,\n",
    "        progress_reporter=tune.JupyterNotebookReporter(True, [metric]),\n",
    "        scheduler=hyper_band_scheduler,\n",
    "        resources_per_trial={\"cpu\": 6, 'gpu': 1/2},\n",
    "        search_alg=hyperopt_search,\n",
    "        num_samples=2,\n",
    "        resume='AUTO',\n",
    "        # metric=metric,\n",
    "        # mode=mode,\n",
    "    )"
   ]
  },
  {
   "cell_type": "markdown",
   "metadata": {},
   "source": [
    "### Select best model parameters"
   ]
  },
  {
   "cell_type": "code",
   "execution_count": 10,
   "metadata": {},
   "outputs": [
    {
     "data": {
      "text/plain": [
       "'vstate.n_parameters=840'"
      ]
     },
     "metadata": {},
     "output_type": "display_data"
    }
   ],
   "source": [
    "# TODO select best\n",
    "\n",
    "hyperparams = {\n",
    "    'model': {\n",
    "        'alpha': 2\n",
    "    },\n",
    "    'learning_rate': 0.10,\n",
    "    'n_epochs': 100,\n",
    "    'n_samples': 1008,\n",
    "}\n",
    "file_name = 'best_params'\n",
    "\n",
    "H, hi, g, obs = setup_j1j2_problem(J2 = 0.8) #Remove the parameter for other models than j1j2. For j1j2 this chooses J2 when J1 = 1.0\n",
    "vstate, model, trainer = setup_model(H, hi, g, FFN, hyperparams)\n",
    "\n",
    "display(f'{vstate.n_parameters=}')"
   ]
  },
  {
   "cell_type": "code",
   "execution_count": 7,
   "metadata": {},
   "outputs": [
    {
     "name": "stderr",
     "output_type": "stream",
     "text": [
      "100%|██████████| 100/100 [01:39<00:00,  1.01it/s, Energy=-32.722+0.039j ± 0.071 [σ²=5.070, R̂=1.0082]]\n"
     ]
    },
    {
     "name": "stdout",
     "output_type": "stream",
     "text": [
      "Optimized energy and relative error:  -32.794+0.010j ± 0.046 [σ²=2.148, R̂=1.0103] 0.03107028230761254\n"
     ]
    }
   ],
   "source": [
    "if not skip_training:\n",
    "    log = nk.logging.JsonLog(file_name)  # save error per iteration in JSON\n",
    "    #    trainer.run(n_iter=hyperparams['n_epochs'], out=log)\n",
    "    trainer.run(n_iter=hyperparams['n_epochs'], out=log, obs=obs)\n",
    "    # trainer.run(n_iter=hyperparams['n_epochs'], out=log)\n",
    "\n",
    "    energy = vstate.expect(H)\n",
    "    energy_analytic = get_ground_state(H)\n",
    "    error = abs((energy.mean - energy_analytic) / energy_analytic)\n",
    "    print(\"Optimized energy and relative error: \", energy, error)\n",
    "    \n",
    "    data = log.data"
   ]
  },
  {
   "cell_type": "markdown",
   "metadata": {},
   "source": [
    "Load trained model if `skip_training=True`"
   ]
  },
  {
   "cell_type": "code",
   "execution_count": 11,
   "metadata": {},
   "outputs": [],
   "source": [
    "if skip_training:\n",
    "    with open(f\"{file_name}.log\", encoding='utf8') as fp:\n",
    "        data = json.load(fp)\n",
    "    \n",
    "    # Load `vstate`, i.e. |ket> from file\n",
    "    vstate.variables = netket.experimental.vqs.variables_from_file(f\"{file_name}.mpack\", vstate.variables)\n",
    "\n",
    "    energy_analytic = get_ground_state(H)"
   ]
  },
  {
   "cell_type": "markdown",
   "metadata": {},
   "source": [
    "### Phase Diagram Loop"
   ]
  },
  {
   "cell_type": "code",
   "execution_count": 14,
   "metadata": {},
   "outputs": [
    {
     "name": "stderr",
     "output_type": "stream",
     "text": [
      "  5%|▍         | 14/300 [00:10<03:28,  1.37it/s, Energy=-26.277+0.009j ± 0.019 [σ²=0.373, R̂=1.0112]]"
     ]
    }
   ],
   "source": [
    "Nsim = 2\n",
    "J2s = np.linspace(0.2, 0.8, num=Nsim)\n",
    "Esim = np.zeros(Nsim)\n",
    "Eacc = np.zeros(Nsim)\n",
    "AFOPs = np.zeros(Nsim)\n",
    "neelOPs = np.zeros(Nsim)\n",
    "dimOPs = np.zeros(Nsim)\n",
    "sigmas = np.zeros(Nsim)\n",
    "\n",
    "hyperparams = {\n",
    "    'model': {\n",
    "        'alpha': 2\n",
    "    },\n",
    "    'learning_rate': 0.11,\n",
    "    'n_epochs': 300,\n",
    "    'n_samples': 1008,\n",
    "}\n",
    "\n",
    "\n",
    "for i, J2 in enumerate(J2s):\n",
    "    H, hi, g, obs = setup_j1j2_problem(L=16, J2=J2) \n",
    "    vstate, model, trainer = setup_model(H, hi, g, FFN, hyperparams)\n",
    "    log = nk.logging.RuntimeLog()\n",
    "    \n",
    "    trainer.run(n_iter=hyperparams['n_epochs'], out=log, obs=obs)\n",
    "    data = log.data\n",
    "    \n",
    "    Eacc[i] = get_ground_state(H)\n",
    "    neelOPs[i] = jnp.mean(jnp.real(data['Neel'].Mean)[-50:-1])\n",
    "    AFOPs[i] = jnp.mean(jnp.real(data['AF'].Mean)[-50:-1])\n",
    "    Esim[i] = jnp.mean(jnp.real(data['Energy'].Mean)[-50:-1])\n",
    "    sigmas[i] = jnp.mean(jnp.real(data['Energy'].Sigma)[-50:-1])\n",
    "    dimOPs[i] = jnp.mean(jnp.real(data['dimer'].Mean)[-50:-1])\n",
    "    #abs((Esim[i] - Eacc[i]) / Eacc[i])\n"
   ]
  },
  {
   "cell_type": "code",
   "execution_count": 6,
   "metadata": {},
   "outputs": [],
   "source": [
    "#save the results of above simualtion to file\n",
    "# res_concat = np.concatenate((J2s,Esim,Eacc,AFOPs,neelOPs,sigmas,dimOPs)).reshape((-1, 7), order='F')\n",
    "#np.save(\"data/J1J2_L20_1layer_withdimer.npy\",res_concat)"
   ]
  },
  {
   "cell_type": "code",
   "execution_count": 7,
   "metadata": {
    "scrolled": true
   },
   "outputs": [
    {
     "ename": "NameError",
     "evalue": "name 'J2s' is not defined",
     "output_type": "error",
     "traceback": [
      "\u001b[0;31m---------------------------------------------------------------------------\u001b[0m",
      "\u001b[0;31mNameError\u001b[0m                                 Traceback (most recent call last)",
      "\u001b[1;32m/home/nikosavola/dev/NeuralNetworkQuantumState/notebook.ipynb Cell 14'\u001b[0m in \u001b[0;36m<cell line: 8>\u001b[0;34m()\u001b[0m\n\u001b[1;32m      <a href='vscode-notebook-cell://wsl%2Bubuntu-20.04/home/nikosavola/dev/NeuralNetworkQuantumState/notebook.ipynb#ch0000015vscode-remote?line=4'>5</a>\u001b[0m fig,ax \u001b[39m=\u001b[39m plt\u001b[39m.\u001b[39msubplots()\n\u001b[1;32m      <a href='vscode-notebook-cell://wsl%2Bubuntu-20.04/home/nikosavola/dev/NeuralNetworkQuantumState/notebook.ipynb#ch0000015vscode-remote?line=5'>6</a>\u001b[0m \u001b[39m# make a plot\u001b[39;00m\n\u001b[1;32m      <a href='vscode-notebook-cell://wsl%2Bubuntu-20.04/home/nikosavola/dev/NeuralNetworkQuantumState/notebook.ipynb#ch0000015vscode-remote?line=6'>7</a>\u001b[0m \u001b[39m#ax.plot(J2s, Eacc, color=\"red\")\u001b[39;00m\n\u001b[0;32m----> <a href='vscode-notebook-cell://wsl%2Bubuntu-20.04/home/nikosavola/dev/NeuralNetworkQuantumState/notebook.ipynb#ch0000015vscode-remote?line=7'>8</a>\u001b[0m l1 \u001b[39m=\u001b[39max\u001b[39m.\u001b[39mplot(J2s, Esim, color\u001b[39m=\u001b[39m\u001b[39m\"\u001b[39m\u001b[39mred\u001b[39m\u001b[39m\"\u001b[39m ,label\u001b[39m=\u001b[39m\u001b[39m\"\u001b[39m\u001b[39m$E_0$ NNQS\u001b[39m\u001b[39m\"\u001b[39m)\n\u001b[1;32m      <a href='vscode-notebook-cell://wsl%2Bubuntu-20.04/home/nikosavola/dev/NeuralNetworkQuantumState/notebook.ipynb#ch0000015vscode-remote?line=8'>9</a>\u001b[0m l2 \u001b[39m=\u001b[39max\u001b[39m.\u001b[39mscatter(J2s, Eacc, color\u001b[39m=\u001b[39m\u001b[39m\"\u001b[39m\u001b[39mred\u001b[39m\u001b[39m\"\u001b[39m,marker \u001b[39m=\u001b[39m\u001b[39m\"\u001b[39m\u001b[39mo\u001b[39m\u001b[39m\"\u001b[39m ,s\u001b[39m=\u001b[39m\u001b[39m80\u001b[39m, facecolors\u001b[39m=\u001b[39m\u001b[39m'\u001b[39m\u001b[39mnone\u001b[39m\u001b[39m'\u001b[39m,label\u001b[39m=\u001b[39m\u001b[39m\"\u001b[39m\u001b[39m$E_0$ Exact\u001b[39m\u001b[39m\"\u001b[39m)\n\u001b[1;32m     <a href='vscode-notebook-cell://wsl%2Bubuntu-20.04/home/nikosavola/dev/NeuralNetworkQuantumState/notebook.ipynb#ch0000015vscode-remote?line=9'>10</a>\u001b[0m ax\u001b[39m.\u001b[39mset_xlabel(\u001b[39m\"\u001b[39m\u001b[39m$J_2/\u001b[39m\u001b[39m\\\u001b[39m\u001b[39m,J_1$\u001b[39m\u001b[39m\"\u001b[39m,fontsize\u001b[39m=\u001b[39m\u001b[39m14\u001b[39m)\n",
      "\u001b[0;31mNameError\u001b[0m: name 'J2s' is not defined"
     ]
    },
    {
     "data": {
      "image/png": "[encoded data removed]",
      "text/plain": [
       "<Figure size 432x288 with 1 Axes>"
      ]
     },
     "metadata": {
      "needs_background": "light"
     },
     "output_type": "display_data"
    }
   ],
   "source": [
    "#plt.plot(J2s, Eacc)\n",
    "#plt.plot(J2s, Esim)\n",
    "#plt.plot(J2s, neels)\n",
    "\n",
    "fig,ax = plt.subplots()\n",
    "# make a plot\n",
    "#ax.plot(J2s, Eacc, color=\"red\")\n",
    "l1 = ax.plot(J2s, Esim, color=\"red\" ,label=\"$E_0$ NNQS\")\n",
    "l2 = ax.scatter(J2s, Eacc, color=\"red\",marker =\"o\" ,s=80, facecolors='none',label=\"$E_0$ Exact\")\n",
    "ax.set_xlabel(r\"$J_2/\\,J_1$\",fontsize=14)\n",
    "ax.set_ylabel(\"Ground state energy $E_0$\", color=\"red\",fontsize=14)\n",
    "ax.legend()\n",
    "\n",
    "ax2 = ax.twinx()\n",
    "# make a plot with different y-axis using second axis object\n",
    "l4 =ax2.plot(J2s, data['AF'], color=\"blue\", label=\"AF OP\")\n",
    "l3 = ax2.plot(J2s, data['Neel'], '--', color=\"blue\", label=\"Neel OP\")\n",
    "ax2.set_ylabel(\"Order Parameters\", color=\"blue\", fontsize=14)\n",
    "ax2.legend(loc=(0.5, 0.1))\n",
    "\n",
    "# save the plot as a file\n",
    "#fig.savefig('Figures/.pdf',format='pdf',bbox_inches='tight')"
   ]
  },
  {
   "cell_type": "markdown",
   "metadata": {},
   "source": [
    "## Results"
   ]
  },
  {
   "cell_type": "code",
   "execution_count": 10,
   "metadata": {},
   "outputs": [
    {
     "data": {
      "text/plain": [
       "Text(0, 0.5, 'Energy')"
      ]
     },
     "execution_count": 10,
     "metadata": {},
     "output_type": "execute_result"
    },
    {
     "data": {
      "image/png": "[encoded data removed]",
      "text/plain": [
       "<Figure size 432x288 with 1 Axes>"
      ]
     },
     "metadata": {
      "needs_background": "light"
     },
     "output_type": "display_data"
    }
   ],
   "source": [
    "plt.errorbar(data[\"Energy\"][\"iters\"], jnp.real(data[\"Energy\"][\"Mean\"]), yerr=data[\"Energy\"]['Sigma'], label=\"OurModel\")\n",
    "plt.hlines([energy_analytic], xmin=0, xmax=max(data[\"Energy\"][\"iters\"]), color='black', label=\"Exact\")\n",
    "plt.legend()\n",
    "\n",
    "plt.xlabel('Iterations')\n",
    "plt.ylabel('Energy')"
   ]
  },
  {
   "cell_type": "code",
   "execution_count": 11,
   "metadata": {},
   "outputs": [
    {
     "data": {
      "text/plain": [
       "Text(0, 0.5, 'Energy')"
      ]
     },
     "execution_count": 11,
     "metadata": {},
     "output_type": "execute_result"
    },
    {
     "data": {
      "image/png": "[encoded data removed]",
      "text/plain": [
       "<Figure size 432x288 with 1 Axes>"
      ]
     },
     "metadata": {
      "needs_background": "light"
     },
     "output_type": "display_data"
    }
   ],
   "source": [
    "sf=data['sf']\n",
    "neel=data['Neel']\n",
    "\n",
    "plt.plot(data[\"Energy\"].iters, jnp.real(sf.Mean),  label= \"Antiferromagnetic structure factor\")\n",
    "plt.plot(data[\"Energy\"].iters, jnp.real(neel.Mean),  label= \"Neel order parameter\")\n",
    "#plt.hlines([E_gs_analytic], xmin=0, xmax=data[\"Energy\"].iters.max(), color='black', label=\"Exact\")\n",
    "plt.legend()\n",
    "\n",
    "plt.xlabel('Iterations')\n",
    "plt.ylabel('Energy')\n"
   ]
  },
  {
   "cell_type": "markdown",
   "metadata": {},
   "source": [
    "### Wavefunctions"
   ]
  },
  {
   "cell_type": "code",
   "execution_count": 12,
   "metadata": {},
   "outputs": [
    {
     "name": "stderr",
     "output_type": "stream",
     "text": [
      "/mnt/c/Users/Niko/Dev/NeuralNetworkQuantumState/model.py:25: FutureWarning: Call to deprecated function 'normal' (`netket.nn.initializers` is deprecated. Use `jax.nn.initializers` instead.)\n",
      "  kernel_init=nn.initializers.normal(stddev=0.01),\n",
      "/mnt/c/Users/Niko/Dev/NeuralNetworkQuantumState/model.py:26: FutureWarning: Call to deprecated function 'normal' (`netket.nn.initializers` is deprecated. Use `jax.nn.initializers` instead.)\n",
      "  bias_init=nn.initializers.normal(stddev=0.01)\n"
     ]
    },
    {
     "data": {
      "text/plain": [
       "[<matplotlib.lines.Line2D at 0x7f06305c47c0>]"
      ]
     },
     "execution_count": 12,
     "metadata": {},
     "output_type": "execute_result"
    },
    {
     "data": {
      "image/png": "[encoded data removed]",
      "text/plain": [
       "<Figure size 432x288 with 1 Axes>"
      ]
     },
     "metadata": {
      "needs_background": "light"
     },
     "output_type": "display_data"
    }
   ],
   "source": [
    "ket = vstate.to_array()\n",
    "\n",
    "plt.plot(abs(ket))"
   ]
  },
  {
   "cell_type": "markdown",
   "metadata": {},
   "source": [
    "# The AKLT Model\n",
    "\n",
    "The AKLT model is an extension to the simple 1D Heisenberg spin model, proposed in 1987 by Affleck, I. et al.:\n",
    "\n",
    "https://journals.aps.org/prl/abstract/10.1103/PhysRevLett.59.799\n",
    "\n",
    "The model is essentially a 1D chain of spin-1/2 nuclei which form pairs. A constraint of having two spin-1/2 nuclei for each site is further imposed, which leads to the system being effectively a spin-1 system. This can be understood then to be a chain of these spin-1 \"composite\" nuclei. \n",
    "\n",
    "In the ground state of this Hamiltonian, every dimerized pair is referred to as a site and is given by a \n",
    "\n",
    "The AKLT Hamiltonian is given by a linear combination of the spin-1 projection operators in the respective Hilbert space $$\\mathcal{H} \\subset \\mathbb{C}^3$$."
   ]
  },
  {
   "cell_type": "markdown",
   "metadata": {},
   "source": []
  }
 ],
 "metadata": {
  "interpreter": {
   "hash": "f9f85f796d01129d0dd105a088854619f454435301f6ffec2fea96ecbd9be4ac"
  },
  "kernelspec": {
   "display_name": "Python 3.9.12 64-bit",
   "language": "python",
   "name": "python3"
  },
  "language_info": {
   "codemirror_mode": {
    "name": "ipython",
    "version": 3
   },
   "file_extension": ".py",
   "mimetype": "text/x-python",
   "name": "python",
   "nbconvert_exporter": "python",
   "pygments_lexer": "ipython3",
   "version": "3.9.12"
  }
 },
 "nbformat": 4,
 "nbformat_minor": 2
}
