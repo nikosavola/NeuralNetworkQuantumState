{
 "cells": [
  {
   "cell_type": "markdown",
   "metadata": {},
   "source": [
    "# Neural Network Quantum State\n",
    "\n"
   ]
  },
  {
   "cell_type": "code",
   "execution_count": 1,
   "metadata": {},
   "outputs": [],
   "source": [
    "import os\n",
    "import json\n",
    "\n",
    "import matplotlib.pyplot as plt\n",
    "import jax.numpy as jnp\n",
    "import ray\n",
    "import netket as nk\n",
    "import netket.nn as nn\n",
    "import netket.experimental\n",
    "\n",
    "from ray import tune\n",
    "from IPython.display import display\n",
    "\n",
    "# Our source code\n",
    "from model import OurModel, setup_problem, setup_model, ray_train_loop, get_ground_state"
   ]
  },
  {
   "cell_type": "code",
   "execution_count": 2,
   "metadata": {},
   "outputs": [
    {
     "name": "stdout",
     "output_type": "stream",
     "text": [
      "nk.utils.mpi.available=True\n"
     ]
    },
    {
     "data": {
      "text/plain": [
       "RayContext(dashboard_url='', python_version='3.9.12', ray_version='1.12.0', ray_commit='f18fc31c7562990955556899090f8e8656b48d2d', address_info={'node_ip_address': '192.168.43.245', 'raylet_ip_address': '192.168.43.245', 'redis_address': None, 'object_store_address': '/tmp/ray/session_2022-05-14_11-20-08_004722_5361/sockets/plasma_store', 'raylet_socket_name': '/tmp/ray/session_2022-05-14_11-20-08_004722_5361/sockets/raylet', 'webui_url': '', 'session_dir': '/tmp/ray/session_2022-05-14_11-20-08_004722_5361', 'metrics_export_port': 49687, 'gcs_address': '192.168.43.245:58579', 'address': '192.168.43.245:58579', 'node_id': '25608f64f6204e3b18076678f5d6f239e66d160f23a10aa903a0a49e'})"
      ]
     },
     "execution_count": 2,
     "metadata": {},
     "output_type": "execute_result"
    }
   ],
   "source": [
    "os.environ[\"JAX_PLATFORM_NAME\"] = \"gpu\" # or gpu\n",
    "# os.environ[\"RAY_PICKLE_VERBOSE_DEBUG\"] = \"1\" # RAY DEBUG\n",
    "# os.environ[\"XLA_FLAGS\"] = \"--xla_gpu_force_compilation_parallelism=1\"  # force gpu w/o right drivers\n",
    "\n",
    "skip_training = False\n",
    "print(f'{nk.utils.mpi.available=}')\n",
    "\n",
    "# Force detecting GPU in WSL\n",
    "ray.shutdown()\n",
    "ray.init(num_gpus=1)"
   ]
  },
  {
   "cell_type": "markdown",
   "metadata": {},
   "source": [
    "### Hyperparameter tuning\n",
    "Use this to select the best `hyperparameters`."
   ]
  },
  {
   "cell_type": "code",
   "execution_count": 3,
   "metadata": {},
   "outputs": [
    {
     "data": {
      "text/html": [
       "== Status ==<br>Current time: 2022-05-13 19:49:44 (running for 03:08:26.61)<br>Memory usage on this node: 7.5/15.5 GiB<br>Using AsyncHyperBand: num_stopped=2\n",
       "Bracket: Iter 80.000: -1.0658141036401503e-14 | Iter 20.000: -1.0416666666666778<br>Resources requested: 12.0/16 CPUs, 1.0/1 GPUs, 0.0/4.06 GiB heap, 0.0/2.03 GiB objects<br>Result logdir: /home/nikosavola/ray_results/ray_train_loop_2022-05-13_16-41-18<br>Number of trials: 5/5 (1 PENDING, 2 RUNNING, 2 TERMINATED)<br><table>\n",
       "<thead>\n",
       "<tr><th>Trial name             </th><th>status    </th><th>loc                </th><th style=\"text-align: right;\">  learning_rate</th><th style=\"text-align: right;\">  model/alpha</th><th style=\"text-align: right;\">  n_epochs</th><th style=\"text-align: right;\">  n_samples</th><th style=\"text-align: right;\">  energy_error</th></tr>\n",
       "</thead>\n",
       "<tbody>\n",
       "<tr><td>ray_train_loop_5f389ce8</td><td>RUNNING   </td><td>192.168.36.171:2559</td><td style=\"text-align: right;\">      0.0548154</td><td style=\"text-align: right;\">            2</td><td style=\"text-align: right;\">       300</td><td style=\"text-align: right;\">       1008</td><td style=\"text-align: right;\">              </td></tr>\n",
       "<tr><td>ray_train_loop_6fe883fe</td><td>RUNNING   </td><td>192.168.36.171:3138</td><td style=\"text-align: right;\">      0.0978837</td><td style=\"text-align: right;\">            3</td><td style=\"text-align: right;\">       300</td><td style=\"text-align: right;\">       1008</td><td style=\"text-align: right;\">              </td></tr>\n",
       "<tr><td>ray_train_loop_0327917c</td><td>PENDING   </td><td>                   </td><td style=\"text-align: right;\">      0.013007 </td><td style=\"text-align: right;\">            1</td><td style=\"text-align: right;\">       300</td><td style=\"text-align: right;\">       1008</td><td style=\"text-align: right;\">              </td></tr>\n",
       "<tr><td>ray_train_loop_5dc189b0</td><td>TERMINATED</td><td>192.168.36.171:1616</td><td style=\"text-align: right;\">      0.0430873</td><td style=\"text-align: right;\">            2</td><td style=\"text-align: right;\">       300</td><td style=\"text-align: right;\">       1008</td><td style=\"text-align: right;\">   4.11905    </td></tr>\n",
       "<tr><td>ray_train_loop_5f369e2a</td><td>TERMINATED</td><td>192.168.36.171:1758</td><td style=\"text-align: right;\">      0.0963717</td><td style=\"text-align: right;\">            1</td><td style=\"text-align: right;\">       300</td><td style=\"text-align: right;\">       1008</td><td style=\"text-align: right;\">   1.06581e-14</td></tr>\n",
       "</tbody>\n",
       "</table><br><br>"
      ],
      "text/plain": [
       "<IPython.core.display.HTML object>"
      ]
     },
     "metadata": {},
     "output_type": "display_data"
    }
   ],
   "source": [
    "if not skip_training:\n",
    "    from ray.tune.suggest.hyperopt import HyperOptSearch\n",
    "    \n",
    "    search_space = {\n",
    "        'model': {\n",
    "            'alpha': tune.randint(1, 3+1), # last value exclusive\n",
    "        },\n",
    "        # 'activation': tune.choice(['tanh', 'sigmoid']),\n",
    "        'learning_rate': tune.uniform(0.0, 0.1),\n",
    "        'n_epochs': 300, #tune.qrandint(100, 300, 50),\n",
    "        'n_samples': 1008, #tune.qrandint(100, 1000, 100),\n",
    "    }\n",
    "    \n",
    "    metric = \"energy_error\"\n",
    "    mode = \"min\"\n",
    "\n",
    "    hyperopt_search = HyperOptSearch(metric=metric, mode=mode)\n",
    "    hyper_band_scheduler = tune.schedulers.ASHAScheduler(\n",
    "        metric=metric,\n",
    "        mode=mode,\n",
    "        max_t=search_space['n_epochs'].max_value if isinstance(search_space['n_epochs'], tune.sample.Sampler) else search_space['n_epochs'],\n",
    "        grace_period=20\n",
    "    )\n",
    "\n",
    "    analysis = tune.run(\n",
    "        ray_train_loop,\n",
    "        config=search_space,\n",
    "        progress_reporter=tune.JupyterNotebookReporter(True, [metric]),\n",
    "        scheduler=hyper_band_scheduler,\n",
    "        resources_per_trial={\"cpu\": 6, 'gpu': 1/2},\n",
    "        search_alg=hyperopt_search,\n",
    "        num_samples=5,\n",
    "        resume='AUTO',\n",
    "        # metric=metric,\n",
    "        # mode=mode,\n",
    "    )"
   ]
  },
  {
   "cell_type": "markdown",
   "metadata": {},
   "source": [
    "### Select best model parameters"
   ]
  },
  {
   "cell_type": "code",
   "execution_count": 3,
   "metadata": {},
   "outputs": [
    {
     "data": {
      "text/plain": [
       "'vstate.n_parameters=480'"
      ]
     },
     "metadata": {},
     "output_type": "display_data"
    }
   ],
   "source": [
    "# TODO select best\n",
    "\n",
    "hyperparams = {\n",
    "    'model': {\n",
    "        'alpha': 1\n",
    "    },\n",
    "    'learning_rate': 0.09,\n",
    "    'n_epochs': 300,\n",
    "    'n_samples': 1008,\n",
    "}\n",
    "file_name = 'best_params'\n",
    "\n",
    "H, hi = setup_problem()\n",
    "vstate, model, trainer = setup_model(H, hi, hyperparams)\n",
    "display(f'{vstate.n_parameters=}')"
   ]
  },
  {
   "cell_type": "markdown",
   "metadata": {},
   "source": [
    "Train with the best parameters."
   ]
  },
  {
   "cell_type": "code",
   "execution_count": 4,
   "metadata": {},
   "outputs": [],
   "source": [
    "if not skip_training:\n",
    "    log = nk.logging.JsonLog(file_name)  # save error per iteration in JSON\n",
    "    trainer.run(n_iter=hyperparams['n_epochs'], out=log)\n",
    "\n",
    "    energy = vstate.expect(H)\n",
    "    energy_analytic = get_ground_state(H)\n",
    "    error = abs((energy.mean - energy_analytic) / energy_analytic)\n",
    "    print(\"Optimized energy and relative error: \", energy, error)\n",
    "    \n",
    "    data = log.data"
   ]
  },
  {
   "cell_type": "markdown",
   "metadata": {},
   "source": [
    "Load trained model if `skip_training=True`"
   ]
  },
  {
   "cell_type": "code",
   "execution_count": 9,
   "metadata": {},
   "outputs": [],
   "source": [
    "if skip_training:\n",
    "\n",
    "    data = json.load(open(f\"{file_name}.log\"))\n",
    "    # Load `vstate`, i.e. |ket> from file\n",
    "    vstate.variables = netket.experimental.vqs.variables_from_file(f\"{file_name}.mpack\", vstate.variables)\n",
    "\n",
    "    energy_analytic = get_ground_state(H)"
   ]
  },
  {
   "cell_type": "markdown",
   "metadata": {},
   "source": [
    "## Results"
   ]
  },
  {
   "cell_type": "code",
   "execution_count": 20,
   "metadata": {},
   "outputs": [
    {
     "data": {
      "text/plain": [
       "Text(0, 0.5, 'Energy')"
      ]
     },
     "execution_count": 20,
     "metadata": {},
     "output_type": "execute_result"
    },
    {
     "data": {
      "image/png": "[encoded data removed]",
      "text/plain": [
       "<Figure size 432x288 with 1 Axes>"
      ]
     },
     "metadata": {
      "needs_background": "light"
     },
     "output_type": "display_data"
    }
   ],
   "source": [
    "plt.errorbar(data[\"Energy\"][\"iters\"], data[\"Energy\"][\"Mean\"]['real'], yerr=data[\"Energy\"]['Sigma'], label=\"OurModel\")\n",
    "plt.hlines([energy_analytic], xmin=0, xmax=max(data[\"Energy\"][\"iters\"]), color='black', label=\"Exact\")\n",
    "plt.legend()\n",
    "\n",
    "plt.xlabel('Iterations')\n",
    "plt.ylabel('Energy')"
   ]
  },
  {
   "cell_type": "markdown",
   "metadata": {},
   "source": [
    "### Wavefunctions"
   ]
  },
  {
   "cell_type": "code",
   "execution_count": 22,
   "metadata": {},
   "outputs": [
    {
     "data": {
      "text/plain": [
       "DeviceArray([ 1.44608614e-12+5.49106834e-12j,\n",
       "              1.73644202e-12+2.59731903e-12j,\n",
       "              3.21173001e-10+2.82244345e-10j, ...,\n",
       "             -9.28134143e-13+7.73797316e-13j,\n",
       "              5.97939600e-12+8.71409924e-11j,\n",
       "              2.65246828e-13+4.14796369e-12j], dtype=complex128)"
      ]
     },
     "execution_count": 22,
     "metadata": {},
     "output_type": "execute_result"
    }
   ],
   "source": [
    "ket = vstate.to_array()\n",
    "\n",
    "ket"
   ]
  },
  {
   "cell_type": "code",
   "execution_count": 23,
   "metadata": {},
   "outputs": [
    {
     "data": {
      "text/plain": [
       "QGTOnTheFly(diag_shift=0.0)"
      ]
     },
     "execution_count": 23,
     "metadata": {},
     "output_type": "execute_result"
    }
   ],
   "source": [
    "# get quantum geometric tensor of state\n",
    "# https://github.com/netket/netket/blob/2a7dded3db4705099d4de5450006b46b32ce34ca/netket/optimizer/qgt/qgt_onthefly_logic.py\n",
    "qgt = vstate.quantum_geometric_tensor()\n",
    "qgt"
   ]
  },
  {
   "cell_type": "code",
   "execution_count": 24,
   "metadata": {},
   "outputs": [
    {
     "data": {
      "text/plain": [
       "DeviceArray([[0., 0., 0., ..., 0., 0., 0.],\n",
       "             [0., 0., 0., ..., 0., 0., 0.],\n",
       "             [0., 0., 0., ..., 0., 0., 0.],\n",
       "             ...,\n",
       "             [0., 0., 0., ..., 0., 0., 0.],\n",
       "             [0., 0., 0., ..., 0., 0., 0.],\n",
       "             [0., 0., 0., ..., 0., 0., 0.]], dtype=float64)"
      ]
     },
     "execution_count": 24,
     "metadata": {},
     "output_type": "execute_result"
    }
   ],
   "source": [
    "QGT = qgt.to_dense()\n",
    "jnp.imag(QGT)"
   ]
  },
  {
   "cell_type": "code",
   "execution_count": null,
   "metadata": {},
   "outputs": [],
   "source": []
  }
 ],
 "metadata": {
  "interpreter": {
   "hash": "f9f85f796d01129d0dd105a088854619f454435301f6ffec2fea96ecbd9be4ac"
  },
  "kernelspec": {
   "display_name": "Python 3.9.12 64-bit",
   "language": "python",
   "name": "python3"
  },
  "language_info": {
   "codemirror_mode": {
    "name": "ipython",
    "version": 3
   },
   "file_extension": ".py",
   "mimetype": "text/x-python",
   "name": "python",
   "nbconvert_exporter": "python",
   "pygments_lexer": "ipython3",
   "version": "3.9.12"
  },
  "orig_nbformat": 4
 },
 "nbformat": 4,
 "nbformat_minor": 2
}
