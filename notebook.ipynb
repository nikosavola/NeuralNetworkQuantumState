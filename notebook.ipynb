{
 "cells": [
  {
   "cell_type": "markdown",
   "metadata": {},
   "source": [
    "# Neural Network Quantum State\n",
    "\n"
   ]
  },
  {
   "cell_type": "code",
   "execution_count": 73,
   "metadata": {},
   "outputs": [],
   "source": [
    "import os\n",
    "import json\n",
    "import time\n",
    "\n",
    "import pandas as pd\n",
    "import matplotlib.pyplot as plt\n",
    "import jax\n",
    "import jax.numpy as jnp\n",
    "import flax\n",
    "import flax.linen as nn\n",
    "import netket as nk\n",
    "\n",
    "from scipy.sparse.linalg import eigsh\n",
    "from netket.operator.spin import sigmaz \n",
    "from tqdm.autonotebook import tqdm"
   ]
  },
  {
   "cell_type": "code",
   "execution_count": 74,
   "metadata": {},
   "outputs": [],
   "source": [
    "os.environ[\"JAX_PLATFORM_NAME\"] = \"gpu\" # or gpu"
   ]
  },
  {
   "cell_type": "code",
   "execution_count": 117,
   "metadata": {},
   "outputs": [],
   "source": [
    "# Define a 1d chain\n",
    "L = 15\n",
    "g = nk.graph.Hypercube(length=L, n_dim=1, pbc=True)\n",
    "N = g.n_nodes"
   ]
  },
  {
   "cell_type": "code",
   "execution_count": 118,
   "metadata": {},
   "outputs": [],
   "source": [
    "# Define the Hilbert space based on this graph\n",
    "# We impose to have a fixed total magnetization of zero \n",
    "hi = nk.hilbert.Spin(s=1, total_sz=0, N=N)\n",
    "\n",
    "# Create the local sampler on the Hilbert space\n",
    "sampler = nk.sampler.MetropolisLocal(hi)"
   ]
  },
  {
   "cell_type": "code",
   "execution_count": 119,
   "metadata": {},
   "outputs": [],
   "source": [
    "# Write Hamiltonian\n",
    "# TODO parameters for interaction strength?\n",
    "H = sum(sigmaz(hi, i) * sigmaz(hi, j) for i, j in g.edges())\n",
    "H += sum(1/3 * sigmaz(hi, i) * sigmaz(hi, j) * sigmaz(hi, i) * sigmaz(hi, j) for i, j in g.edges())"
   ]
  },
  {
   "cell_type": "code",
   "execution_count": 120,
   "metadata": {},
   "outputs": [
    {
     "data": {
      "text/plain": [
       "(1787607, 1787607)"
      ]
     },
     "metadata": {},
     "output_type": "display_data"
    },
    {
     "name": "stdout",
     "output_type": "stream",
     "text": [
      "eigenvalues with scipy sparse: [-1.33540399e-15  4.10372323e-15]\n"
     ]
    }
   ],
   "source": [
    "# Show as sparse normal matrix\n",
    "sp_h=H.to_sparse()\n",
    "display(sp_h.shape)\n",
    "\n",
    "# and solve eigenvalues\n",
    "eig_vals, eig_vecs = eigsh(sp_h, k=2, which=\"SA\")\n",
    "print(\"eigenvalues with scipy sparse:\", eig_vals)\n",
    "\n",
    "E_gs = eig_vals[0]"
   ]
  },
  {
   "cell_type": "code",
   "execution_count": 125,
   "metadata": {},
   "outputs": [],
   "source": [
    "class FFN(nn.Module):\n",
    "    \n",
    "    # You can define attributes at the module-level\n",
    "    # with a default. This allows you to easily change\n",
    "    # some hyper-parameter without redefining the whole \n",
    "    # flax module.\n",
    "    alpha : int = 1\n",
    "            \n",
    "    @nn.compact\n",
    "    def __call__(self, x):\n",
    "\n",
    "        # here we construct the first dense layer using a\n",
    "        # pre-built implementation in flax.\n",
    "        # features is the number of output nodes\n",
    "        # WARNING: Won't work with complex hamiltonians because\n",
    "        # of a bug in flax. Use nk.nn.Dense otherwise. \n",
    "        # dense = nn.Dense(features=self.alpha * x.shape[-1])\n",
    "        \n",
    "        x = x.reshape(-1, 1, x.shape[-1])\n",
    "        dense = nk.nn.DenseSymm(symmetries=g.translation_group(),\n",
    "                           features=self.alpha,\n",
    "                           kernel_init=nn.initializers.normal(stddev=0.01))\n",
    "        \n",
    "\n",
    "        # Forward\n",
    "        # we apply the dense layer to the input\n",
    "        y = dense(x)\n",
    "\n",
    "        # the non-linearity is a simple ReLu\n",
    "        y = nn.relu(y)\n",
    "                \n",
    "        # sum the output\n",
    "        return jnp.sum(y, axis=(-1,-2))\n"
   ]
  },
  {
   "cell_type": "code",
   "execution_count": 126,
   "metadata": {},
   "outputs": [
    {
     "data": {
      "text/plain": [
       "16"
      ]
     },
     "execution_count": 126,
     "metadata": {},
     "output_type": "execute_result"
    }
   ],
   "source": [
    "model = FFN(alpha=1)\n",
    "\n",
    "vstate = nk.vqs.MCState(sampler, model, n_samples=1008)\n",
    "\n",
    "\n",
    "vstate.n_parameters"
   ]
  },
  {
   "cell_type": "code",
   "execution_count": 127,
   "metadata": {},
   "outputs": [
    {
     "name": "stderr",
     "output_type": "stream",
     "text": [
      "100%|██████████| 300/300 [00:02<00:00, 101.38it/s, Energy=21.94 ± 0.23 [σ²=51.89, R̂=1.0138]]\n"
     ]
    },
    {
     "name": "stdout",
     "output_type": "stream",
     "text": [
      "Optimized energy and relative error:  22.10 ± 0.22 [σ²=50.95, R̂=1.0080] 1.6552666871558698e+16\n"
     ]
    }
   ],
   "source": [
    "optimizer = nk.optimizer.Adam(learning_rate=0.1)\n",
    "\n",
    "# Notice the use, again of Stochastic Reconfiguration, which considerably improves the optimisation\n",
    "gs = nk.driver.VMC(H, optimizer, variational_state=vstate,preconditioner=nk.optimizer.SR(diag_shift=0.1))\n",
    "\n",
    "log=nk.logging.RuntimeLog()\n",
    "gs.run(n_iter=300,out=log)\n",
    "\n",
    "ffn_energy = vstate.expect(H)\n",
    "error = abs((ffn_energy.mean-eig_vals[0])/eig_vals[0])\n",
    "print(\"Optimized energy and relative error: \", ffn_energy, error)"
   ]
  },
  {
   "cell_type": "code",
   "execution_count": 128,
   "metadata": {},
   "outputs": [
    {
     "data": {
      "text/plain": [
       "Text(0, 0.5, 'Energy')"
      ]
     },
     "execution_count": 128,
     "metadata": {},
     "output_type": "execute_result"
    },
    {
     "data": {
      "image/png": "[encoded data removed]",
      "text/plain": [
       "<Figure size 432x288 with 1 Axes>"
      ]
     },
     "metadata": {
      "needs_background": "light"
     },
     "output_type": "display_data"
    }
   ],
   "source": [
    "data_FFN = log.data\n",
    "\n",
    "plt.errorbar(data_FFN[\"Energy\"].iters, data_FFN[\"Energy\"].Mean, yerr=data_FFN[\"Energy\"].Sigma, label=\"FFN\")\n",
    "plt.hlines([E_gs], xmin=0, xmax=300, color='black', label=\"Exact\")\n",
    "plt.legend()\n",
    "\n",
    "plt.xlabel('Iterations')\n",
    "plt.ylabel('Energy')"
   ]
  },
  {
   "cell_type": "code",
   "execution_count": 109,
   "metadata": {},
   "outputs": [
    {
     "data": {
      "text/plain": [
       "QGTOnTheFly(diag_shift=0.0)"
      ]
     },
     "execution_count": 109,
     "metadata": {},
     "output_type": "execute_result"
    }
   ],
   "source": [
    "# get quantum geometric tensor of state\n",
    "qgt = vstate.quantum_geometric_tensor()\n",
    "qgt"
   ]
  },
  {
   "cell_type": "code",
   "execution_count": 116,
   "metadata": {},
   "outputs": [
    {
     "data": {
      "text/plain": [
       "DeviceArray([[ 0.00000000e+00,  0.00000000e+00,  0.00000000e+00,\n",
       "               0.00000000e+00,  0.00000000e+00,  0.00000000e+00,\n",
       "               0.00000000e+00],\n",
       "             [-4.71844785e-16,  1.02597868e+00,  8.42072940e-03,\n",
       "               1.02597868e+00,  8.42072940e-03,  1.02597868e+00,\n",
       "               8.42072940e-03],\n",
       "             [-6.14092110e-16,  8.42072940e-03,  7.84828515e-01,\n",
       "               8.42072940e-03,  7.84828515e-01,  8.42072940e-03,\n",
       "               7.84828515e-01],\n",
       "             [-4.71844785e-16,  1.02597868e+00,  8.42072940e-03,\n",
       "               1.02597868e+00,  8.42072940e-03,  1.02597868e+00,\n",
       "               8.42072940e-03],\n",
       "             [-6.14092110e-16,  8.42072940e-03,  7.84828515e-01,\n",
       "               8.42072940e-03,  7.84828515e-01,  8.42072940e-03,\n",
       "               7.84828515e-01],\n",
       "             [-4.71844785e-16,  1.02597868e+00,  8.42072940e-03,\n",
       "               1.02597868e+00,  8.42072940e-03,  1.02597868e+00,\n",
       "               8.42072940e-03],\n",
       "             [-6.14092110e-16,  8.42072940e-03,  7.84828515e-01,\n",
       "               8.42072940e-03,  7.84828515e-01,  8.42072940e-03,\n",
       "               7.84828515e-01]], dtype=float64)"
      ]
     },
     "execution_count": 116,
     "metadata": {},
     "output_type": "execute_result"
    }
   ],
   "source": [
    "QGT = qgt.to_dense()\n",
    "jnp.real(QGT)"
   ]
  },
  {
   "cell_type": "code",
   "execution_count": null,
   "metadata": {},
   "outputs": [],
   "source": []
  }
 ],
 "metadata": {
  "interpreter": {
   "hash": "f9f85f796d01129d0dd105a088854619f454435301f6ffec2fea96ecbd9be4ac"
  },
  "kernelspec": {
   "display_name": "Python 3.9.12 64-bit",
   "language": "python",
   "name": "python3"
  },
  "language_info": {
   "codemirror_mode": {
    "name": "ipython",
    "version": 3
   },
   "file_extension": ".py",
   "mimetype": "text/x-python",
   "name": "python",
   "nbconvert_exporter": "python",
   "pygments_lexer": "ipython3",
   "version": "3.9.12"
  },
  "orig_nbformat": 4
 },
 "nbformat": 4,
 "nbformat_minor": 2
}
